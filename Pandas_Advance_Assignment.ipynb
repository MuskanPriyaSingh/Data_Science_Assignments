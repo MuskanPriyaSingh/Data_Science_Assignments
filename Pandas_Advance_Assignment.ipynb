{
 "cells": [
  {
   "cell_type": "code",
   "execution_count": 2,
   "metadata": {},
   "outputs": [
    {
     "name": "stdout",
     "output_type": "stream",
     "text": [
      "     Name   Age  Gender\n",
      "0   Alice  25.0  Female\n",
      "1     Bob  30.0    Male\n",
      "2  Claire  27.0  Female\n",
      "\n",
      "             Age\n",
      "count   4.000000\n",
      "mean   27.750000\n",
      "std     2.217356\n",
      "min    25.000000\n",
      "25%    26.500000\n",
      "50%    28.000000\n",
      "75%    29.250000\n",
      "max    30.000000\n",
      "\n",
      "<class 'pandas.core.frame.DataFrame'>\n",
      "RangeIndex: 5 entries, 0 to 4\n",
      "Data columns (total 3 columns):\n",
      " #   Column  Non-Null Count  Dtype  \n",
      "---  ------  --------------  -----  \n",
      " 0   Name    5 non-null      object \n",
      " 1   Age     4 non-null      float64\n",
      " 2   Gender  5 non-null      object \n",
      "dtypes: float64(1), object(2)\n",
      "memory usage: 252.0+ bytes\n",
      "None\n",
      "\n",
      "\n",
      "     Name   Age  Gender\n",
      "0   Alice  25.0  Female\n",
      "1     Bob  30.0    Male\n",
      "2  Claire  27.0  Female\n",
      "3   David   0.0    Male\n",
      "4     Eve  29.0  Female\n"
     ]
    }
   ],
   "source": [
    "#Q1. List any five functions of the pandas library with execution.\n",
    "\n",
    "import pandas as pd\n",
    "\n",
    "data = {'Name': ['Alice', 'Bob', 'Claire', 'David', 'Eve'],\n",
    "        'Age': [25, 30, 27, None, 29],\n",
    "        'Gender': ['Female', 'Male', 'Female', 'Male', 'Female']}\n",
    "df = pd.DataFrame(data)\n",
    "\n",
    "#1. head(): Returns the first n rows of the DataFrame.\n",
    "print(df.head(3)) # to display the first 3 rows\n",
    "print()\n",
    "\n",
    "#2. describe(): Generates descriptive statistics of the DataFrame.\n",
    "print(df.describe())\n",
    "print()\n",
    "\n",
    "#3. info(): Provides a summary of the DataFrame.\n",
    "print(df.info())\n",
    "print()\n",
    "\n",
    "#4. groupby(): Groups the data based on a column and applies an aggregation function.\n",
    "grouped_df = df.groupby('Gender')['Age'].mean()\n",
    "print()\n",
    "\n",
    "#5. fillna(): Fills missing values with a specified value.\n",
    "filled_df = df.fillna(0)\n",
    "print(filled_df)"
   ]
  },
  {
   "cell_type": "code",
   "execution_count": 3,
   "metadata": {},
   "outputs": [
    {
     "name": "stdout",
     "output_type": "stream",
     "text": [
      "Original DataFrame:\n",
      "    A   B   C\n",
      "0  10  15  20\n",
      "1  20  25  30\n",
      "2  30  35  40\n",
      "3  40  45  50\n",
      "\n",
      "Re-indexed DataFrame:\n",
      "    A   B   C\n",
      "1  10  15  20\n",
      "3  20  25  30\n",
      "5  30  35  40\n",
      "7  40  45  50\n"
     ]
    }
   ],
   "source": [
    "'''Q2. Given a Pandas DataFrame df with columns 'A', 'B', and 'C', write a Python function to re-index the DataFrame with a new index that starts from 1 and increments by 2 for each row.'''\n",
    "\n",
    "def reindex_df(df):\n",
    "    new_index = range(1, 2*len(df) + 1, 2)\n",
    "    df.index = new_index\n",
    "    \n",
    "    return df\n",
    "\n",
    "data = {\n",
    "    'A': [10, 20, 30, 40],\n",
    "    'B': [15, 25, 35, 45],\n",
    "    'C': [20, 30, 40, 50]\n",
    "}\n",
    "df = pd.DataFrame(data)\n",
    "\n",
    "print(\"Original DataFrame:\")\n",
    "print(df)\n",
    "\n",
    "print(\"\\nRe-indexed DataFrame:\")\n",
    "print(reindex_df(df))"
   ]
  },
  {
   "cell_type": "code",
   "execution_count": 5,
   "metadata": {},
   "outputs": [
    {
     "name": "stdout",
     "output_type": "stream",
     "text": [
      "The sum of first three values is: 60\n"
     ]
    }
   ],
   "source": [
    "'''Q3. You have a Pandas DataFrame df with a column named 'Values'. Write a Python function that iterates over the DataFrame and calculates the sum of the first three values in the 'Values' column. The function should print the sum to the console.\n",
    "\n",
    "For example, if the 'Values' column of df contains the values [10, 20, 30, 40, 50], your function should calculate and print the sum of the first three values, which is 60.\n",
    "'''\n",
    "\n",
    "def sum_first_three_values(df):\n",
    "    if 'Values' in df.columns and len(df['Values']) >= 3:\n",
    "        sum_of_values = df['Values'].iloc[:3].sum()\n",
    "        print(\"The sum of first three values is:\", sum_of_values)\n",
    "    else:\n",
    "        print(\"The 'Values' column does not exist or does not have at least three values.\")\n",
    "\n",
    "data = {'Values': [10, 20, 30, 40, 50]}\n",
    "df = pd.DataFrame(data)\n",
    "\n",
    "sum_first_three_values(df)"
   ]
  },
  {
   "cell_type": "code",
   "execution_count": 6,
   "metadata": {},
   "outputs": [
    {
     "name": "stdout",
     "output_type": "stream",
     "text": [
      "                    Text  Word_Count\n",
      "0  Mindset is everything           3\n",
      "1         Begin anywhere           2\n",
      "2    Escape the ordinary           3\n",
      "3                   None           0\n",
      "4      Live every moment           3\n"
     ]
    }
   ],
   "source": [
    "'''Q4. Given a Pandas DataFrame df with a column 'Text', write a Python function to create a new column 'Word_Count' that contains the number of words in each row of the 'Text' column.\n",
    "'''\n",
    "\n",
    "def add_word_count_column(df):\n",
    "\n",
    "    def word_count(text):\n",
    "\n",
    "        if pd.isna(text):\n",
    "            return 0\n",
    "        \n",
    "        return len(text.split())\n",
    "    \n",
    "    df['Word_Count'] = df['Text'].apply(word_count)\n",
    "\n",
    "    return df\n",
    "\n",
    "data = {\n",
    "    'Text': ['Mindset is everything', 'Begin anywhere', 'Escape the ordinary', None, 'Live every moment']\n",
    "}\n",
    "df = pd.DataFrame(data)\n",
    "\n",
    "df = add_word_count_column(df)\n",
    "print(df)\n"
   ]
  },
  {
   "cell_type": "code",
   "execution_count": 7,
   "metadata": {},
   "outputs": [
    {
     "name": "stdout",
     "output_type": "stream",
     "text": [
      "DataFrame.size: 9\n",
      "DataFrame.shape: (3, 3)\n"
     ]
    }
   ],
   "source": [
    "'''Q5. How are DataFrame.size() and DataFrame.shape() different?\n",
    "\n",
    "Answer:- Both properties provide valuable information but in different contexts: \n",
    "\n",
    "DataFrame.size() property returns the number of elements in the DataFrame.\n",
    "-> It is calculated as the product of the number of rows and the number of columns (i.e., rows * columns).\n",
    "-> It returns a single integer.\n",
    "\n",
    "DataFrame.shape() property returns a tuple representing the dimensionality of the DataFrame.\n",
    "-> The tuple consists of two values: the number of rows and the number of columns (i.e., (rows, columns)).\n",
    "-> It returns a tuple of integers.\n",
    "'''\n",
    "#Example: \n",
    "\n",
    "data = {\n",
    "    'A': [1, 2, 3],\n",
    "    'B': [4, 5, 6],\n",
    "    'C': [7, 8, 9]\n",
    "}\n",
    "df = pd.DataFrame(data)\n",
    "\n",
    "print(\"DataFrame.size:\", df.size)\n",
    "\n",
    "print(\"DataFrame.shape:\", df.shape)"
   ]
  },
  {
   "cell_type": "code",
   "execution_count": 9,
   "metadata": {},
   "outputs": [
    {
     "data": {
      "text/plain": [
       "\"Q6. Which function of pandas do we use to read an excel file?\\n\\nAnswer:- To read an Excel file in Pandas, we use the 'read_excel()' function. This function allows you to read data from an Excel file into a Pandas DataFrame.\\n\""
      ]
     },
     "execution_count": 9,
     "metadata": {},
     "output_type": "execute_result"
    }
   ],
   "source": [
    "'''Q6. Which function of pandas do we use to read an excel file?\n",
    "\n",
    "Answer:- To read an Excel file in Pandas, we use the 'read_excel()' function. This function allows you to read data from an Excel file into a Pandas DataFrame.\n",
    "'''"
   ]
  },
  {
   "cell_type": "code",
   "execution_count": 10,
   "metadata": {},
   "outputs": [
    {
     "name": "stdout",
     "output_type": "stream",
     "text": [
      "                    Email     Username\n",
      "0    john.doe@example.com     john.doe\n",
      "1  clara.smith@sample.com  clara.smith\n",
      "2        rony123@test.org      rony123\n"
     ]
    }
   ],
   "source": [
    "'''Q7. You have a Pandas DataFrame df that contains a column named 'Email' that contains email addresses in the format 'username@domain.com'. Write a Python function that creates a new column 'Username' in df that contains only the username part of each email address.\n",
    "\n",
    "The username is the part of the email address that appears before the '@' symbol. For example, if the email address is 'john.doe@example.com', the 'Username' column should contain 'john.doe'. Your function should extract the username from each email address and store it in the new 'Username' column.\n",
    "'''\n",
    "\n",
    "def extract_username(df):\n",
    "\n",
    "    def get_username(email):\n",
    "        return email.split('@')[0]\n",
    "    \n",
    "    df['Username'] = df['Email'].apply(get_username)\n",
    "\n",
    "    return df\n",
    "\n",
    "data = {\n",
    "    'Email': ['john.doe@example.com', 'clara.smith@sample.com', 'rony123@test.org']\n",
    "}\n",
    "df = pd.DataFrame(data)\n",
    "\n",
    "df = extract_username(df)\n",
    "\n",
    "print(df)\n"
   ]
  },
  {
   "cell_type": "code",
   "execution_count": 11,
   "metadata": {},
   "outputs": [
    {
     "name": "stdout",
     "output_type": "stream",
     "text": [
      "   A  B  C\n",
      "1  8  2  7\n",
      "2  6  9  4\n",
      "4  9  1  2\n"
     ]
    }
   ],
   "source": [
    "'''Q8. You have a Pandas DataFrame df with columns 'A', 'B', and 'C'. Write a Python function that selects all rows where the value in column 'A' is greater than 5 and the value in column 'B' is less than 10. The function should return a new DataFrame that contains only the selected rows.\n",
    "\n",
    "For example, if df contains the following values:\n",
    "\n",
    "  A B C\n",
    "\n",
    "0 3 5 1\n",
    "\n",
    "1 8 2 7\n",
    "\n",
    "2 6 9 4\n",
    "\n",
    "3 2 3 5\n",
    "\n",
    "4 9 1 2\n",
    "\n",
    "Your function should select the following rows: A B C\n",
    "\n",
    "1 8 2 7\n",
    "\n",
    "4 9 1 2\n",
    "\n",
    "The function should return a new DataFrame that contains only the selected rows.\n",
    "'''\n",
    "\n",
    "def select_rows(df):\n",
    "    filtered_df = df[(df['A'] > 5) & (df['B'] < 10)]\n",
    "    return filtered_df\n",
    "\n",
    "data = {\n",
    "    'A': [3, 8, 6, 2, 9],\n",
    "    'B': [5, 2, 9, 3, 1],\n",
    "    'C': [1, 7, 4, 5, 2]\n",
    "}\n",
    "\n",
    "df = pd.DataFrame(data)\n",
    "\n",
    "selected_rows = select_rows(df)\n",
    "print(selected_rows)"
   ]
  },
  {
   "cell_type": "code",
   "execution_count": 15,
   "metadata": {},
   "outputs": [
    {
     "name": "stdout",
     "output_type": "stream",
     "text": [
      "Mean: 26.285714285714285\n",
      "Median: 13.0\n",
      "Standard Deviation: 26.068590843607726\n"
     ]
    }
   ],
   "source": [
    "'''Q9. Given a Pandas DataFrame df with a column 'Values', write a Python function to calculate the mean, median, and standard deviation of the values in the 'Values' column.\n",
    "'''\n",
    "\n",
    "def calculate_statistics(df):\n",
    "    mean_value = df['Values'].mean()\n",
    "    median_value = df['Values'].median()\n",
    "    std_dev_value = df['Values'].std()\n",
    "    \n",
    "    return mean_value, median_value, std_dev_value\n",
    "\n",
    "data = {\n",
    "    'Values': [10, 2, 13, 4, 50, 35, 70]\n",
    "}\n",
    "df = pd.DataFrame(data)\n",
    "\n",
    "mean, median, std_dev = calculate_statistics(df)\n",
    "\n",
    "print(f\"Mean: {mean}\")\n",
    "print(f\"Median: {median}\")\n",
    "print(f\"Standard Deviation: {std_dev}\")\n",
    "\n"
   ]
  },
  {
   "cell_type": "code",
   "execution_count": 16,
   "metadata": {},
   "outputs": [
    {
     "name": "stdout",
     "output_type": "stream",
     "text": [
      "        Date  Sales  MovingAverage\n",
      "0 2023-01-01    100          100.0\n",
      "1 2023-01-02    150          125.0\n",
      "2 2023-01-03    200          150.0\n",
      "3 2023-01-04    250          175.0\n",
      "4 2023-01-05    300          200.0\n",
      "5 2023-01-06    350          225.0\n",
      "6 2023-01-07    400          250.0\n",
      "7 2023-01-08    450          300.0\n",
      "8 2023-01-09    500          350.0\n",
      "9 2023-01-10    550          400.0\n"
     ]
    }
   ],
   "source": [
    "'''Q10. Given a Pandas DataFrame df with a column 'Sales' and a column 'Date', write a Python function to create a new column 'MovingAverage' that contains the moving average of the sales for the past 7 days for each row in the DataFrame. The moving average should be calculated using a window of size 7 and should include the current day.\n",
    "'''\n",
    "def add_moving_average(df):\n",
    "\n",
    "    df['Date'] = pd.to_datetime(df['Date'])\n",
    "    df = df.sort_values('Date')\n",
    "    df['MovingAverage'] = df['Sales'].rolling(window=7, min_periods = 1).mean()\n",
    "    \n",
    "    return df\n",
    "\n",
    "data = {\n",
    "    'Date': ['01-01-2023', '01-02-2023', '01-03-2023', '01-04-2023','01-05-2023', '01-06-2023', '01-07-2023', '01-08-2023', '01-09-2023','01-10-2023'],\n",
    "    'Sales': [100, 150, 200, 250, 300, 350, 400, 450, 500, 550]\n",
    "}\n",
    "df = pd.DataFrame(data)\n",
    "\n",
    "df = add_moving_average(df)\n",
    "print(df)"
   ]
  },
  {
   "cell_type": "code",
   "execution_count": 17,
   "metadata": {},
   "outputs": [
    {
     "name": "stdout",
     "output_type": "stream",
     "text": [
      "        Date    Weekday\n",
      "0 2023-01-01     Sunday\n",
      "1 2023-01-02     Monday\n",
      "2 2023-01-03    Tuesday\n",
      "3 2023-01-04  Wednesday\n",
      "4 2023-01-05   Thursday\n"
     ]
    }
   ],
   "source": [
    "'''Q11. You have a Pandas DataFrame df with a column 'Date'. Write a Python function that creates a new column 'Weekday' in the DataFrame. The 'Weekday' column should contain the weekday name (e.g.Monday, Tuesday) corresponding to each date in the 'Date' column.\n",
    "\n",
    "For example, if df contains the following values:\n",
    "\n",
    "    Date\n",
    "\n",
    "0 2023-01-01\n",
    "\n",
    "1 2023-01-02\n",
    "\n",
    "2 2023-01-03\n",
    "\n",
    "3 2023-01-04\n",
    "\n",
    "4 2023-01-05\n",
    "\n",
    "Your function should create the following DataFrame:\n",
    "\n",
    "\n",
    "   Date      Weekday\n",
    "\n",
    "0 2023-01-01 Sunday\n",
    "\n",
    "1 2023-01-02 Monday\n",
    "\n",
    "2 2023-01-03 Tuesday\n",
    "\n",
    "3 2023-01-04 Wednesday\n",
    "\n",
    "4 2023-01-05 Thursday\n",
    "\n",
    "The function should return the modified DataFrame.'''\n",
    "\n",
    "def add_weekday_column(df):\n",
    "\n",
    "    df['Date'] = pd.to_datetime(df['Date'])\n",
    "    df['Weekday'] = df['Date'].dt.day_name()  #to extracts the full weekday name from each date in the 'Date' column\n",
    "\n",
    "    return df\n",
    "\n",
    "data = {\n",
    "    'Date': ['2023-01-01', '2023-01-02', '2023-01-03', '2023-01-04', '2023-01-05']\n",
    "}\n",
    "df = pd.DataFrame(data)\n",
    "\n",
    "df = add_weekday_column(df)\n",
    "print(df)"
   ]
  },
  {
   "cell_type": "code",
   "execution_count": 18,
   "metadata": {},
   "outputs": [
    {
     "name": "stdout",
     "output_type": "stream",
     "text": [
      "        Date  Value\n",
      "0 2023-01-01     10\n",
      "1 2023-01-15     20\n",
      "3 2023-01-31     40\n"
     ]
    }
   ],
   "source": [
    "'''Q12. Given a Pandas DataFrame df with a column 'Date' that contains timestamps, write a Python function to select all rows where the date is between '2023-01-01' and '2023-01-31'.\n",
    "'''\n",
    "\n",
    "def filter_by_date_range(df, start_date, end_date):\n",
    "\n",
    "    df['Date'] = pd.to_datetime(df['Date'])\n",
    "    \n",
    "    start_date = pd.to_datetime(start_date)\n",
    "    end_date = pd.to_datetime(end_date)\n",
    "    \n",
    "    filtered_df = df[(df['Date'] >= start_date) & (df['Date'] <= end_date)]\n",
    "    \n",
    "    return filtered_df\n",
    "\n",
    "data = {\n",
    "    'Date': ['2023-01-01', '2023-01-15', '2023-02-01', '2023-01-31','2023-03-01'],\n",
    "    'Value': [10, 20, 30, 40, 50]\n",
    "}\n",
    "df = pd.DataFrame(data)\n",
    "\n",
    "start_date = '2023-01-01'\n",
    "end_date = '2023-01-31'\n",
    "\n",
    "\n",
    "filtered_df = filter_by_date_range(df, start_date, end_date)\n",
    "print(filtered_df)"
   ]
  },
  {
   "cell_type": "code",
   "execution_count": 19,
   "metadata": {},
   "outputs": [],
   "source": [
    "'''Q13. To use the basic functions of pandas, what is the first and foremost necessary library that needs to be imported?\n",
    "\n",
    "Answer:- To use the basic functions of Pandas in Python, we need to import the Pandas library. The first and foremost necessary library to import is:\n",
    "'''\n",
    "\n",
    "import pandas as pd"
   ]
  }
 ],
 "metadata": {
  "kernelspec": {
   "display_name": "Python 3",
   "language": "python",
   "name": "python3"
  },
  "language_info": {
   "codemirror_mode": {
    "name": "ipython",
    "version": 3
   },
   "file_extension": ".py",
   "mimetype": "text/x-python",
   "name": "python",
   "nbconvert_exporter": "python",
   "pygments_lexer": "ipython3",
   "version": "3.11.4"
  }
 },
 "nbformat": 4,
 "nbformat_minor": 2
}
