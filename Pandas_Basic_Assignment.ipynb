{
 "cells": [
  {
   "cell_type": "code",
   "execution_count": 1,
   "metadata": {},
   "outputs": [
    {
     "name": "stdout",
     "output_type": "stream",
     "text": [
      "0     4\n",
      "1     8\n",
      "2    15\n",
      "3    16\n",
      "4    23\n",
      "5    42\n",
      "dtype: int64\n"
     ]
    }
   ],
   "source": [
    "#Q1. Create a Pandas Series that contains the following data: 4, 8, 15, 16, 23, and 42. Then, print the series.\n",
    "\n",
    "import pandas as pd\n",
    "\n",
    "data = [4, 8, 15, 16, 23, 42]\n",
    "series = pd.Series(data)\n",
    "\n",
    "print(series)"
   ]
  },
  {
   "cell_type": "code",
   "execution_count": 2,
   "metadata": {},
   "outputs": [
    {
     "name": "stdout",
     "output_type": "stream",
     "text": [
      "0     23\n",
      "1     42\n",
      "2     56\n",
      "3     12\n",
      "4     65\n",
      "5     24\n",
      "6     74\n",
      "7     32\n",
      "8     85\n",
      "9    100\n",
      "dtype: int64\n"
     ]
    }
   ],
   "source": [
    "#Q2. Create a variable of list type containing 10 elements in it, and apply pandas.Series function on the variable print it.\n",
    "\n",
    "data_list = [23, 42, 56, 12, 65, 24, 74, 32, 85, 100]\n",
    "\n",
    "variable = pd.Series(data_list)\n",
    "print(variable)"
   ]
  },
  {
   "cell_type": "code",
   "execution_count": 3,
   "metadata": {},
   "outputs": [
    {
     "name": "stdout",
     "output_type": "stream",
     "text": [
      "     Name  Age  Gender\n",
      "0   Alice   25  Female\n",
      "1     Bob   30    Male\n",
      "2  Claire   27  Female\n"
     ]
    }
   ],
   "source": [
    "'''Q3. Create a Pandas DataFrame that contains the following data:\n",
    "\n",
    " Name     Age     Gender\n",
    "------   -----   --------\n",
    "Alice     25      Female\n",
    "Bob       30      Male\n",
    "Claire    27      Female\n",
    "\n",
    "Then, print the DataFrame.\n",
    "'''\n",
    "\n",
    "data = {'Name': ['Alice', 'Bob', 'Claire'], 'Age': [25, 30, 27], 'Gender': ['Female', 'Male', 'Female']}\n",
    "\n",
    "dataframe = pd.DataFrame(data)\n",
    "print(dataframe)"
   ]
  },
  {
   "cell_type": "code",
   "execution_count": 4,
   "metadata": {},
   "outputs": [
    {
     "name": "stdout",
     "output_type": "stream",
     "text": [
      "Pandas Series:\n",
      "0     23\n",
      "1     42\n",
      "2     56\n",
      "3     12\n",
      "4     65\n",
      "5     24\n",
      "6     74\n",
      "7     32\n",
      "8     85\n",
      "9    100\n",
      "Name: Numbers, dtype: int64\n",
      "\n",
      "Pandas DataFrame:\n",
      "     Name  Age  Gender\n",
      "0   Alice   25  Female\n",
      "1     Bob   30    Male\n",
      "2  Claire   27  Female\n"
     ]
    }
   ],
   "source": [
    "'''Q4. What is 'DataFrame' in pandas and how is it different from pandas.series? Explain with an example.\n",
    "\n",
    "Answer:- A DataFrame in Pandas is a two-dimensional, size-mutable, and heterogeneous tabular data structure with labeled axes (rows and columns). It is similar to a table in a database, an Excel spreadsheet, or a data frame in R.\n",
    "A Series, on the other hand, is a one-dimensional array-like object containing an array of data and an associated array of data labels (index). It can be thought of as a single column of data.'''\n",
    "\n",
    "#Example:\n",
    "\n",
    "#The Series object contains a single column of numbers with an index.\n",
    "data_list = [23, 42, 56, 12, 65, 24, 74, 32, 85, 100]\n",
    "\n",
    "series = pd.Series(data_list, name= 'Numbers')\n",
    "print(\"Pandas Series:\")\n",
    "print(series)\n",
    "\n",
    "#The DataFrame object contains three columns (Name, Age, and Gender), each with its own data type and an index.\n",
    "data = {'Name': ['Alice', 'Bob', 'Claire'], 'Age': [25, 30, 27], 'Gender': ['Female', 'Male', 'Female']}\n",
    "\n",
    "dataframe = pd.DataFrame(data)\n",
    "print(\"\\nPandas DataFrame:\")\n",
    "print(dataframe)\n"
   ]
  },
  {
   "cell_type": "code",
   "execution_count": 7,
   "metadata": {},
   "outputs": [
    {
     "name": "stdout",
     "output_type": "stream",
     "text": [
      "Category\n",
      "Electronics    262.5\n",
      "Furniture      200.0\n",
      "Name: Sales, dtype: float64\n"
     ]
    }
   ],
   "source": [
    "'''Q5. What are some common functions you can use to manipulate data in a Pandas DataFrame? Can you give an example of when you might use one of these functions?\n",
    "Answer:- \n",
    "1. head() and tail(): These functions return the first and last n rows of the DataFrame, respectively.\n",
    "2. describe(): Generates descriptive statistics of the DataFrame.\n",
    "3. info(): Provides a summary of the DataFrame, including the number of non-null entries and data types of each column.\n",
    "4. drop(): Removes rows or columns from the DataFrame.\n",
    "5. loc[] and iloc[]: Access a group of rows and columns by labels or integer position.\n",
    "6. groupby(): Groups the data based on certain columns and allows aggregation functions to be applied to each group.\n",
    "7. merge() and concat(): Combine DataFrames.\n",
    "8. apply(): Applies a function along an axis of the DataFrame.\n",
    "9. pivot_table(): Creates a spreadsheet-style pivot table as a DataFrame.\n",
    "10.fillna() and dropna(): Handle missing values by filling them or dropping them.\n",
    "'''\n",
    "#Example:\n",
    "data = {\n",
    "    'Product': ['A', 'B', 'C', 'A', 'C', 'B'],\n",
    "    'Category': ['Electronics', 'Electronics', 'Electronics', 'Furniture', 'Electronics', 'Furniture'],\n",
    "    'Sales': [200, 100, 350, 150, 400, 250]\n",
    "}\n",
    "\n",
    "df = pd.DataFrame(data)\n",
    "\n",
    "avg_sales_per_category = df.groupby('Category')['Sales'].mean()\n",
    "print(avg_sales_per_category)"
   ]
  },
  {
   "cell_type": "code",
   "execution_count": 8,
   "metadata": {},
   "outputs": [
    {
     "name": "stdout",
     "output_type": "stream",
     "text": [
      "Original Series:\n",
      "0    1\n",
      "1    2\n",
      "2    3\n",
      "3    4\n",
      "4    5\n",
      "dtype: int64\n",
      "\n",
      "Modified Series:\n",
      "0    1\n",
      "1    8\n",
      "2    3\n",
      "3    4\n",
      "4    5\n",
      "dtype: int64\n",
      "\n",
      "Original DataFrame:\n",
      "     Name  Age\n",
      "0   Alice   25\n",
      "1     Bob   30\n",
      "2  Claire   27\n",
      "\n",
      "Modified DataFrame:\n",
      "     Name  Age\n",
      "0   Alice   26\n",
      "1     Bob   30\n",
      "2  Claire   27\n",
      "\n",
      "DataFrame with new Column:\n",
      "     Name  Age  Gender\n",
      "0   Alice   26  Female\n",
      "1     Bob   30    Male\n",
      "2  Claire   27  Female\n"
     ]
    }
   ],
   "source": [
    "'''Q6. Which of the following is mutable in nature Series, DataFrame, Panel?\n",
    "Answer:- All three of them are mutable in nature.\n",
    "-> A Series is a one-dimensional array-like object. You can modify its data, add new elements, or change its index.\n",
    "-> A DataFrame is a two-dimensional, tabular data structure with labeled axes (rows and columns). You can modify the data, add or drop rows and columns, and change the index.\n",
    "-> As of Pandas version 0.25.0, the Panel data structure has been deprecated and removed. It was a three-dimensional data structure and was also mutable, but users are encouraged to use MultiIndex DataFrames instead.\n",
    "'''\n",
    "#Example:\n",
    "#Mutability of Series\n",
    "series = pd.Series([1, 2, 3, 4, 5])\n",
    "print('Original Series:')\n",
    "print(series)\n",
    "\n",
    "series[1] = 8\n",
    "print('\\nModified Series:')\n",
    "print(series)\n",
    "\n",
    "#Mutability of DataFrame\n",
    "data = {'Name': ['Alice', 'Bob', 'Claire'], 'Age': [25, 30, 27]}\n",
    "df = pd.DataFrame(data)\n",
    "print('\\nOriginal DataFrame:')\n",
    "print(df)\n",
    "\n",
    "df.loc[0, 'Age'] = 26\n",
    "print(\"\\nModified DataFrame:\")\n",
    "print(df)\n",
    "\n",
    "df['Gender'] = ['Female', 'Male', 'Female']\n",
    "print(\"\\nDataFrame with new Column:\")\n",
    "print(df)\n"
   ]
  },
  {
   "cell_type": "code",
   "execution_count": 9,
   "metadata": {},
   "outputs": [
    {
     "name": "stdout",
     "output_type": "stream",
     "text": [
      "     Name  Age  Gender Location\n",
      "0   Alice   25  Female      USA\n",
      "1     Bob   30    Male    India\n",
      "2  Claire   27  Female   Russia\n"
     ]
    }
   ],
   "source": [
    "#Q7. Create a DataFrame using multiple Series. Explain with an example.\n",
    "\n",
    "# Creating multiple Series\n",
    "name_series = pd.Series(['Alice', 'Bob', 'Claire'])\n",
    "age_series = pd.Series([25, 30, 27])\n",
    "gender_series = pd.Series(['Female', 'Male', 'Female'])\n",
    "location_series = pd.Series(['USA', 'India', 'Russia'])\n",
    "\n",
    "# Combine the Series into a DataFrame\n",
    "df = pd.DataFrame({\n",
    "    'Name': name_series,\n",
    "    'Age' : age_series,\n",
    "    'Gender': gender_series,\n",
    "    'Location' : location_series\n",
    "})\n",
    "\n",
    "print(df)"
   ]
  }
 ],
 "metadata": {
  "kernelspec": {
   "display_name": "Python 3",
   "language": "python",
   "name": "python3"
  },
  "language_info": {
   "codemirror_mode": {
    "name": "ipython",
    "version": 3
   },
   "file_extension": ".py",
   "mimetype": "text/x-python",
   "name": "python",
   "nbconvert_exporter": "python",
   "pygments_lexer": "ipython3",
   "version": "3.11.4"
  }
 },
 "nbformat": 4,
 "nbformat_minor": 2
}
