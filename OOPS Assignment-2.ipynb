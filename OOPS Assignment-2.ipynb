{
 "cells": [
  {
   "cell_type": "code",
   "execution_count": 1,
   "metadata": {},
   "outputs": [
    {
     "name": "stdout",
     "output_type": "stream",
     "text": [
      "Area of Circle:  201.06192982974676\n",
      "Area of Square:  25\n"
     ]
    }
   ],
   "source": [
    "'''Q1. What is Abstraction in OOps? Explain with an example.\n",
    "\n",
    "Answer-Abstraction is one of the four fundamental principles of OOP,which also include Encapsulation, Inheritance, and Polymorphism. Abstraction involves simplifying complex systems by modeling classes based on the essential properties and behavior relevant to the problem domain, while ignoring or abstracting away the less essential details. In Python, abstraction is achieved through the use of abstract base classes(ABCs) and abstract methods provided by the 'abc' module.\n",
    "Let's consider an example to illustrate abstraction:\n",
    "'''\n",
    "\n",
    "from abc import ABC, abstractmethod\n",
    "from math import pi\n",
    "\n",
    "# Abstract class representing a shape\n",
    "class Shape(ABC):\n",
    "\n",
    "    # Abstract method for calculating area\n",
    "    @abstractmethod\n",
    "    def calculate_area(self):\n",
    "        pass\n",
    "\n",
    "    # Concrete subclass representing a Circle\n",
    "class Circle(Shape):\n",
    "         \n",
    "    #Constructor\n",
    "    def __init__(self, radius):\n",
    "        self.radius = radius\n",
    "\n",
    "    # Implementation of abstract method to calculate area\n",
    "    def calculate_area(self):\n",
    "        return pi * self.radius * self.radius\n",
    "\n",
    "# Concrete subclass representing a Square\n",
    "\n",
    "class Square(Shape):\n",
    "\n",
    "    #Constructor\n",
    "    def __init__(self, side):\n",
    "        self.side = side\n",
    "\n",
    "    # Implementation of abstract method to calculate area\n",
    "    def calculate_area(self):\n",
    "        return self.side * self.side\n",
    "    \n",
    "# Creating objects of concrete subclasses\n",
    "circle = Circle(8)\n",
    "square = Square(5)\n",
    "\n",
    "# Calculating and printing areas\n",
    "print(\"Area of Circle: \", circle.calculate_area())\n",
    "print(\"Area of Square: \", square.calculate_area())"
   ]
  },
  {
   "cell_type": "code",
   "execution_count": 2,
   "metadata": {},
   "outputs": [
    {
     "name": "stdout",
     "output_type": "stream",
     "text": [
      "Area of Circle:  28.274333882308138\n",
      "Area of Square:  64\n"
     ]
    }
   ],
   "source": [
    "'''Q2. Differentiate between Abstraction and Encapsulation. Explain with an example.\n",
    "\n",
    "Answer- Abstraction and encapsulation are two fundamental principles of object-oriented programming (OOP), but they serve different purposes and focus on different aspects of software design.\n",
    "\n",
    "(a) Abstraction is the process of simplifying complex systems by modeling classes based on their essential features and ignoring or hiding unnecessary details. It involves creating abstract classes and abstract methods to define a common interface for a set of related objects.\n",
    "'''\n",
    "\n",
    "from abc import ABC, abstractmethod\n",
    "from math import pi\n",
    "\n",
    "# Abstract class representing a shape\n",
    "class Shape(ABC):\n",
    "\n",
    "    # Abstract method for calculating area\n",
    "    @abstractmethod\n",
    "    def calculate_area(self):\n",
    "        pass\n",
    "\n",
    "    # Concrete subclass representing a Circle\n",
    "class Circle(Shape):\n",
    "    #Constructor\n",
    "    def __init__(self, radius):\n",
    "        self.radius = radius\n",
    "\n",
    "    # Implementation of abstract method to calculate area\n",
    "    def calculate_area(self):\n",
    "        return pi * self.radius * self.radius\n",
    "\n",
    "# Concrete subclass representing a Square\n",
    "\n",
    "class Square(Shape):\n",
    "\n",
    "    #Constructor\n",
    "    def __init__(self, side):\n",
    "        self.side = side\n",
    "\n",
    "    # Implementation of abstract method to calculate area\n",
    "    def calculate_area(self):\n",
    "        return self.side * self.side\n",
    "    \n",
    "# Creating objects of concrete subclasses\n",
    "circle = Circle(3)\n",
    "square = Square(8)\n",
    "\n",
    "# Calculating and printing areas\n",
    "print(\"Area of Circle: \", circle.calculate_area())\n",
    "print(\"Area of Square: \", square.calculate_area())"
   ]
  },
  {
   "cell_type": "code",
   "execution_count": 4,
   "metadata": {},
   "outputs": [
    {
     "name": "stdout",
     "output_type": "stream",
     "text": [
      "Student Name: Piyush\n",
      "Student Age: 20\n"
     ]
    }
   ],
   "source": [
    "'''(b) Encapsulation is the bundling of data (attributes) and methods (functions) that operate on the data into a single unit known as a class. It restricts direct access to some of an object's components and can prevent the accidental modification of data.\n",
    "'''\n",
    "\n",
    "class Student:\n",
    "\n",
    "    def __init__(self, name, age):\n",
    "        self._name = name  # _name is a protected attribute\n",
    "        self._age = age    # _age is a protected attribute\n",
    "\n",
    "    def get_name(self):\n",
    "        return self._name\n",
    "\n",
    "    def get_age(self):\n",
    "        return self._age \n",
    "\n",
    "# Creating an object of the Student class\n",
    "student = Student(\"Piyush\", 20)\n",
    "\n",
    "# Accessing attributes through public methods\n",
    "print(\"Student Name:\", student.get_name())\n",
    "print(\"Student Age:\", student.get_age())"
   ]
  },
  {
   "cell_type": "code",
   "execution_count": null,
   "metadata": {},
   "outputs": [],
   "source": [
    "'''Q3. What is abc module in python? Why is it used?\n",
    "\n",
    "Answer- The 'abc' module in Python stands for \"Abstract Base Classes.\" It provides the infrastructure for defining abstract base classes in Python. Abstract base classes (ABCs) are a way to define interfaces or blueprints for classes that enforce a certain set of methods to be implemented by their concrete subclasses.\n",
    "\n",
    "It is used for defining interfaces, enforcing method implementation, polymorphism and code organization.\n",
    "'''"
   ]
  },
  {
   "cell_type": "code",
   "execution_count": 13,
   "metadata": {},
   "outputs": [
    {
     "name": "stdout",
     "output_type": "stream",
     "text": [
      "Elements popped from stack: 6\n",
      "Is stack empty? False\n"
     ]
    }
   ],
   "source": [
    "'''Q4. How can we achieve data abstraction?\n",
    "\n",
    "Answer-  In the context of object-oriented programming (OOP), data abstraction is often achieved through the use of abstract data types, encapsulation, and access control.\n",
    "\n",
    "1.Abstract Data Types: They are high-level descriptions of data structures that specify a set of operations without specifying how those operations are implemented. This allows you to focus on what an object does rather than how it does it.\n",
    "'''\n",
    "class Stack:\n",
    "    def __init__(self):\n",
    "        self.items=[]\n",
    "\n",
    "    def push(self, item):\n",
    "        self.items.append(item)\n",
    "\n",
    "    def pop(self):\n",
    "        return self.items.pop()\n",
    "\n",
    "    def is_empty(self):\n",
    "        return len(self.items) == 0     \n",
    "\n",
    "obj = Stack()\n",
    "\n",
    "obj.push(4)\n",
    "obj.push(6)\n",
    "\n",
    "print(\"Elements popped from stack:\", obj.pop())\n",
    "print(\"Is stack empty?\", obj.is_empty())\n"
   ]
  },
  {
   "cell_type": "code",
   "execution_count": 14,
   "metadata": {},
   "outputs": [
    {
     "name": "stdout",
     "output_type": "stream",
     "text": [
      "Person Name: Alice\n",
      "Person Age: 25\n"
     ]
    }
   ],
   "source": [
    "'''2.Encapsulation: It involves bundling data (attributes) and the methods that operate on that data into a single unit, known as a class.\n",
    "'''\n",
    "\n",
    "class Person:\n",
    "    def __init__(self, name, age):\n",
    "        self._name = name  # Encapsulated attribute\n",
    "        self._age = age    # Encapsulated attribute\n",
    "\n",
    "    def get_name(self):\n",
    "        return self._name\n",
    "\n",
    "    def get_age(self):\n",
    "        return self._age\n",
    "\n",
    "\n",
    "person = Person(\"Alice\", 25)\n",
    "print(\"Person Name:\", person.get_name())  \n",
    "print(\"Person Age:\", person.get_age())   \n"
   ]
  },
  {
   "cell_type": "code",
   "execution_count": 15,
   "metadata": {},
   "outputs": [
    {
     "name": "stdout",
     "output_type": "stream",
     "text": [
      "Account Balance: 1000\n"
     ]
    }
   ],
   "source": [
    "'''3.Access control: It involves restricting access to certain parts of the data or methods to prevent unauthorized modification or direct access.\n",
    "'''\n",
    "\n",
    "class BankAccount:\n",
    "    def __init__(self, balance):\n",
    "        self._balance = balance  # Protected attribute\n",
    "\n",
    "    def get_balance(self):\n",
    "        return self._balance\n",
    "\n",
    "    def deposit(self, amount):\n",
    "        if amount > 0:\n",
    "            self._balance += amount\n",
    "        else:\n",
    "            print(\"Invalid deposit amount.\")\n",
    "\n",
    "\n",
    "account = BankAccount(1000)\n",
    "print(\"Account Balance:\", account.get_balance()) \n",
    "\n",
    "# Trying to directly access the protected attribute (this will raise an AttributeError)\n",
    "\n",
    "# print(\"Direct Access to Balance:\", account._balance)-> give error!"
   ]
  },
  {
   "cell_type": "code",
   "execution_count": 16,
   "metadata": {},
   "outputs": [
    {
     "name": "stdout",
     "output_type": "stream",
     "text": [
      "Current Temperature: 25\n",
      "Updated Temperature: 30\n",
      "Invalid temperature value.\n"
     ]
    }
   ],
   "source": [
    "'''4.Getter and Setter Methods:Getter methods are used to retrieve the value of an attribute, and setter methods are used to modify the value. This allows controlled access to the data and enables validation.\n",
    "'''\n",
    "\n",
    "class TemperatureSensor:\n",
    "    def __init__(self, temperature):\n",
    "        self._temperature = temperature  # Encapsulated attribute\n",
    "\n",
    "    def get_temperature(self):\n",
    "        return self._temperature\n",
    "\n",
    "    def set_temperature(self, new_temperature):\n",
    "        if -50 <= new_temperature <= 50:\n",
    "            self._temperature = new_temperature\n",
    "        else:\n",
    "            print(\"Invalid temperature value.\")\n",
    "\n",
    "\n",
    "sensor = TemperatureSensor(25)\n",
    "print(\"Current Temperature:\", sensor.get_temperature())  \n",
    "\n",
    "# Setting a new temperature value (valid)\n",
    "sensor.set_temperature(30)\n",
    "print(\"Updated Temperature:\", sensor.get_temperature())\n",
    "\n",
    "# Setting an invalid temperature value (this will print an error message)\n",
    "sensor.set_temperature(60)\n",
    "\n",
    "\n"
   ]
  },
  {
   "cell_type": "code",
   "execution_count": 18,
   "metadata": {},
   "outputs": [
    {
     "name": "stdout",
     "output_type": "stream",
     "text": [
      "TypeError: Can't instantiate abstract class Shape with abstract method calculate_area\n",
      "Area of Circle: 78.5\n"
     ]
    }
   ],
   "source": [
    "'''Q5. Can we create an instance of an abstract class? Explain your answer.\n",
    "\n",
    "Answer-In Python, you cannot create an instance of an abstract class directly. Attempting to do so will result in a 'TypeError'. Abstract classes are meant to serve as templates or blueprints for other classes, and they often include one or more abstract methods that must be implemented by concrete subclasses.\n",
    "'''\n",
    "\n",
    "from abc import ABC, abstractmethod\n",
    "\n",
    "# Abstract class\n",
    "class Shape(ABC):\n",
    "    @abstractmethod\n",
    "    def calculate_area(self):\n",
    "        pass\n",
    "\n",
    "# Attempting to create an instance of an abstract class\n",
    "try:\n",
    "    shape_instance = Shape()  # This will raise a TypeError\n",
    "except TypeError as e:\n",
    "    print(f\"TypeError: {e}\")\n",
    "\n",
    "# Concrete subclass\n",
    "class Circle(Shape):\n",
    "    def __init__(self, radius):\n",
    "        self.radius = radius\n",
    "\n",
    "    def calculate_area(self):\n",
    "        return 3.14 * self.radius * self.radius\n",
    "\n",
    "# Creating an instance of the concrete subclass\n",
    "circle_instance = Circle(5)\n",
    "print(\"Area of Circle:\", circle_instance.calculate_area())\n"
   ]
  }
 ],
 "metadata": {
  "kernelspec": {
   "display_name": "Python 3",
   "language": "python",
   "name": "python3"
  },
  "language_info": {
   "codemirror_mode": {
    "name": "ipython",
    "version": 3
   },
   "file_extension": ".py",
   "mimetype": "text/x-python",
   "name": "python",
   "nbconvert_exporter": "python",
   "pygments_lexer": "ipython3",
   "version": "3.11.4"
  }
 },
 "nbformat": 4,
 "nbformat_minor": 2
}
