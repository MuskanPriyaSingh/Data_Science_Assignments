{
 "cells": [
  {
   "cell_type": "code",
   "execution_count": 1,
   "metadata": {},
   "outputs": [
    {
     "ename": "SyntaxError",
     "evalue": "'(' was never closed (1894508790.py, line 6)",
     "output_type": "error",
     "traceback": [
      "\u001b[1;36m  Cell \u001b[1;32mIn[1], line 6\u001b[1;36m\u001b[0m\n\u001b[1;33m    print(\"Hello, World\" # Syntax error\u001b[0m\n\u001b[1;37m         ^\u001b[0m\n\u001b[1;31mSyntaxError\u001b[0m\u001b[1;31m:\u001b[0m '(' was never closed\n"
     ]
    }
   ],
   "source": [
    "'''Q1. What is an Exception in python? Write the difference between Exceptions and Syntax errors.\n",
    "\n",
    "Answer- In Python, an exception is an event that occurs during the execution of a program that disrupts the normal flow of instructions. When an error occurs, Python raises an exception, which can be caught and handled by the program to prevent it from crashing. Exceptions provide a way to handle errors gracefully and take appropriate actions.\n",
    "Syntax errors are errors in the code structure that prevent the interpreter from parsing and executing the program. Whereas Exceptions are errors that occur during the execution of a program.\n",
    "'''\n",
    "print(\"Hello, World\" # Syntax error\n",
    "      \n",
    "result= 10/0   # Exception       \n"
   ]
  },
  {
   "cell_type": "code",
   "execution_count": 2,
   "metadata": {},
   "outputs": [
    {
     "name": "stdout",
     "output_type": "stream",
     "text": [
      "Cannot divide by zero!\n"
     ]
    },
    {
     "ename": "TypeError",
     "evalue": "unsupported operand type(s) for /: 'int' and 'str'",
     "output_type": "error",
     "traceback": [
      "\u001b[1;31m---------------------------------------------------------------------------\u001b[0m",
      "\u001b[1;31mTypeError\u001b[0m                                 Traceback (most recent call last)",
      "Cell \u001b[1;32mIn[2], line 17\u001b[0m\n\u001b[0;32m     14\u001b[0m     \u001b[38;5;28mprint\u001b[39m(\u001b[38;5;124m\"\u001b[39m\u001b[38;5;124mCannot divide by zero!\u001b[39m\u001b[38;5;124m\"\u001b[39m)    \n\u001b[0;32m     16\u001b[0m \u001b[38;5;66;03m# Case 2: Exception not handled \u001b[39;00m\n\u001b[1;32m---> 17\u001b[0m result\u001b[38;5;241m=\u001b[39m \u001b[43mdivide_numbers\u001b[49m\u001b[43m(\u001b[49m\u001b[38;5;241;43m10\u001b[39;49m\u001b[43m,\u001b[49m\u001b[43m \u001b[49m\u001b[38;5;124;43m'\u001b[39;49m\u001b[38;5;124;43m2\u001b[39;49m\u001b[38;5;124;43m'\u001b[39;49m\u001b[43m)\u001b[49m \u001b[38;5;66;03m#Attempting to divide by a string\u001b[39;00m\n",
      "Cell \u001b[1;32mIn[2], line 7\u001b[0m, in \u001b[0;36mdivide_numbers\u001b[1;34m(a, b)\u001b[0m\n\u001b[0;32m      6\u001b[0m \u001b[38;5;28;01mdef\u001b[39;00m \u001b[38;5;21mdivide_numbers\u001b[39m(a,b):\n\u001b[1;32m----> 7\u001b[0m     result\u001b[38;5;241m=\u001b[39m\u001b[43ma\u001b[49m\u001b[38;5;241;43m/\u001b[39;49m\u001b[43mb\u001b[49m\n\u001b[0;32m      8\u001b[0m     \u001b[38;5;28;01mreturn\u001b[39;00m result\n",
      "\u001b[1;31mTypeError\u001b[0m: unsupported operand type(s) for /: 'int' and 'str'"
     ]
    }
   ],
   "source": [
    "'''Q2. What happens when an exception is not handled? Explain with an example.\n",
    "\n",
    "Answer- When an exception is not handled, it propagates up the call stack, searching for an appropriate exception handler. If no suitable handler is found, the program terminates, and an error message is displayed, indicating the type of exception and the line of code where the exception occurred. This termination without proper handling can lead to an abrupt end of the program and may leave the user without information about what went wrong.\n",
    "'''\n",
    "\n",
    "def divide_numbers(a,b):\n",
    "    result=a/b\n",
    "    return result\n",
    "\n",
    "# Case 1: Exception handled\n",
    "try:\n",
    "    result= divide_numbers(10/0) #Attempting to divide by zero\n",
    "except ZeroDivisionError:\n",
    "    print(\"Cannot divide by zero!\")    \n",
    "\n",
    "# Case 2: Exception not handled \n",
    "result= divide_numbers(10, '2') #Attempting to divide by a string\n"
   ]
  },
  {
   "cell_type": "code",
   "execution_count": 1,
   "metadata": {},
   "outputs": [
    {
     "name": "stdout",
     "output_type": "stream",
     "text": [
      "Cannot divide by zero!\n",
      "This block is always executed, regardless of exceptions.\n",
      "The result of the division is: 5.0\n",
      "This block is always executed, regardless of exceptions.\n"
     ]
    }
   ],
   "source": [
    "'''Q3. Which Python statements are used to catch and handle exceptions? Explain with an example.\n",
    "\n",
    "Amswer-The 'try', 'except', 'else', and 'finally' Python statements are used to catch and handle exceptions.\n",
    "'''\n",
    "\n",
    "def divide_numbers(a,b):\n",
    "    try:\n",
    "        result = a/b\n",
    "    except ZeroDivisionError:\n",
    "        print(\"Cannot divide by zero!\")\n",
    "    else:\n",
    "        print(f\"The result of the division is: {result}\")\n",
    "    finally:\n",
    "        print(\"This block is always executed, regardless of exceptions.\")\n",
    "\n",
    "divide_numbers(8, 0)\n",
    "divide_numbers(10,2)                    "
   ]
  },
  {
   "cell_type": "code",
   "execution_count": 3,
   "metadata": {},
   "outputs": [
    {
     "name": "stdout",
     "output_type": "stream",
     "text": [
      "The result of the division is: 2.0\n",
      "This block is always executed, regardless of exceptions.\n",
      "Error: Value must be a positive number\n"
     ]
    }
   ],
   "source": [
    "'''Q4. Explain with an example:\n",
    "a. try and else\n",
    "b. finally\n",
    "c. raise\n",
    "\n",
    "Answer- a. try and else: The 'else' block is executed only if no exceptions are raised in the 'try' block. \n",
    "\n",
    "b. finally: The 'finally' block is always executed, regardless of whether an exception is raised or not. It's commonly used for cleanup operation.\n",
    "\n",
    "c. raise: The 'raise' statement is used to explicitly raise an exception.\n",
    "'''\n",
    "def divide_numbers(a,b):\n",
    "    try:\n",
    "        result = a/b\n",
    "    except ZeroDivisionError:\n",
    "        print(\"Cannot divide by zero!\")\n",
    "    else:\n",
    "        print(f\"The result of the division is: {result}\") \n",
    "    finally:\n",
    "        print(\"This block is always executed, regardless of exceptions.\")    \n",
    "    \n",
    "divide_numbers(6,3)    \n",
    "\n",
    "def check_positive_number(value):\n",
    "    if value <= 0:\n",
    "        raise ValueError(\"Value must be a positive number\")\n",
    "    else:\n",
    "        print(f\"{value} is a positive number\")\n",
    "\n",
    "try:\n",
    "    check_positive_number(-5)\n",
    "except ValueError as e:\n",
    "    print(f\"Error: {e}\")            \n"
   ]
  },
  {
   "cell_type": "code",
   "execution_count": 4,
   "metadata": {},
   "outputs": [
    {
     "name": "stdout",
     "output_type": "stream",
     "text": [
      "Error: Negative value not allowed: -5\n"
     ]
    }
   ],
   "source": [
    "'''Q5. What are Custom Exceptions in python? Why do we need Custom Exceptions? Explain with an example.\n",
    "\n",
    "Answer- In Python, custom exception are user-defined exception that extend the built-in 'Exception' class or one of its subclasses.Creating custom exceptions allows you to define your own error conditions and handle them in a way that makes sense for your application. This helps improve code readability, maintainability, and allows for a more structured approach to handling specific error scenarios.\n",
    "We need Custom Exceptions for:-\n",
    "a. Expressiveness: Custom exceptions provide a way to express the specific errors or exceptional conditions that may occur in your code.\n",
    "b. Modularity: By creating custom exceptions, you can encapsulate the details of error handling within specific modules or components.\n",
    "c. Consistency: Custom exceptions allow you to define a consistent approach to handling errors across your codebase.\n",
    "d. Hierarchy: Custom exceptions can be organized in a hierarchy, with more specific exceptions inheriting from more general ones. \n",
    "'''\n",
    "import math\n",
    "\n",
    "class NegativeValueError(Exception):\n",
    "    def __init__(self, value):\n",
    "        self.value= value\n",
    "        super().__init__(f\"Negative value not allowed: {value}\")\n",
    "\n",
    "def calculate_square_root(number):\n",
    "    if number < 0:\n",
    "        raise NegativeValueError(number)\n",
    "    return math.sqrt(number)\n",
    "\n",
    "# Example: Using the custom exception\n",
    "try:\n",
    "    result=calculate_square_root(-5)\n",
    "except NegativeValueError as e:\n",
    "    print(f\"Error: {e}\")\n",
    "else:\n",
    "    print(f\"The square root is: {result}\")"
   ]
  },
  {
   "cell_type": "code",
   "execution_count": 5,
   "metadata": {},
   "outputs": [
    {
     "name": "stdout",
     "output_type": "stream",
     "text": [
      "The result of the division is: 5.0\n",
      "This block is always executed, regardless of exceptions.\n",
      "Custom Error: Cannot divide by zero.\n",
      "This block is always executed, regardless of exceptions.\n"
     ]
    }
   ],
   "source": [
    "'''Q6. Create a custom exception class. Use this class to handle an exception.\n",
    "'''\n",
    "class CustomError(Exception):\n",
    "    def __init__(self, message=\"A custom error occurred.\"):\n",
    "        self.message= message\n",
    "        super().__init__(self.message)\n",
    "\n",
    "def divide_numbers(a,b):\n",
    "    try:\n",
    "        if b == 0:\n",
    "            raise CustomError(\"Cannot divide by zero.\")\n",
    "        result = a/b\n",
    "        print(f\"The result of the division is: {result}\")\n",
    "    except CustomError as e:\n",
    "        print(f\"Custom Error: {e}\")\n",
    "    except ZeroDivisionError:\n",
    "        print(\"This block handles other division errors.\")\n",
    "    finally:\n",
    "        print(\"This block is always executed, regardless of exceptions.\")\n",
    "\n",
    "#Using the custom exception\n",
    "divide_numbers(10, 2) #No exception\n",
    "divide_numbers(10, 0) #Raises CustomError\n",
    "\n"
   ]
  },
  {
   "cell_type": "code",
   "execution_count": null,
   "metadata": {},
   "outputs": [],
   "source": []
  }
 ],
 "metadata": {
  "kernelspec": {
   "display_name": "Python 3",
   "language": "python",
   "name": "python3"
  },
  "language_info": {
   "codemirror_mode": {
    "name": "ipython",
    "version": 3
   },
   "file_extension": ".py",
   "mimetype": "text/x-python",
   "name": "python",
   "nbconvert_exporter": "python",
   "pygments_lexer": "ipython3",
   "version": "3.11.4"
  }
 },
 "nbformat": 4,
 "nbformat_minor": 2
}
