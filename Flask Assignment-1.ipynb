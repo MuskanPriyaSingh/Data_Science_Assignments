{
 "cells": [
  {
   "cell_type": "code",
   "execution_count": null,
   "metadata": {},
   "outputs": [],
   "source": [
    "#Q1. What is Flask Framework? What are the advantages of Flask Framework?\n",
    "\n",
    "'''Answer:- Flask is a lightweight web framework for Python that is designed to make getting started with web development quick and easy, with the ability to scale up to complex applications. It is known for its simplicity, flexibility, and ease of use, making it a popular choice among developers for building web applications, APIs, and more.\n",
    "\n",
    "Advantages of Flask Framework:\n",
    "\n",
    "1. Lightweight: Flask is a minimalist framework, providing only the essentials for web development. This makes it easy to learn and quick to set up, without unnecessary complexity or overhead.\n",
    "\n",
    "2. Flexibility: Flask allows developers to choose the components they need for their application, rather than imposing a rigid structure. This flexibility makes it easy to integrate Flask with other libraries and tools, allowing for greater customization and control.\n",
    "\n",
    "3. Easy to get started: Flask has a simple and intuitive API, making it easy for developers to get started with web development in Python. The documentation is well-written and comprehensive, providing clear guidance on how to use Flask for various tasks.\n",
    "\n",
    "4. Extensible: Flask provides a wide range of extensions and plugins that add additional functionality to the framework, such as authentication, database integration, and more. These extensions make it easy to extend the capabilities of Flask to suit the needs of different projects.\n",
    "\n",
    "5. Built-in development server: Flask comes with a built-in development server that makes it easy to test and debug applications locally before deploying them to production. This server is lightweight and easy to use, providing a convenient way to get feedback on your code as you develop.\n",
    "\n",
    "6. Large and active community: Flask has a large and active community of developers who contribute to the framework and provide support through forums, mailing lists, and chat channels. This vibrant community ensures that Flask remains up-to-date and well-supported, with a wealth of resources available to help developers overcome challenges and learn new techniques.\n",
    "'''"
   ]
  },
  {
   "cell_type": "code",
   "execution_count": 1,
   "metadata": {},
   "outputs": [
    {
     "name": "stdout",
     "output_type": "stream",
     "text": [
      "Requirement already satisfied: flask in c:\\users\\muskan priya\\appdata\\local\\programs\\python\\python311\\lib\\site-packages (3.0.1)Note: you may need to restart the kernel to use updated packages.\n"
     ]
    },
    {
     "name": "stderr",
     "output_type": "stream",
     "text": [
      "\n",
      "[notice] A new release of pip is available: 23.3.2 -> 24.0\n",
      "[notice] To update, run: python.exe -m pip install --upgrade pip\n"
     ]
    },
    {
     "name": "stdout",
     "output_type": "stream",
     "text": [
      "\n",
      "Requirement already satisfied: Werkzeug>=3.0.0 in c:\\users\\muskan priya\\appdata\\local\\programs\\python\\python311\\lib\\site-packages (from flask) (3.0.1)\n",
      "Requirement already satisfied: Jinja2>=3.1.2 in c:\\users\\muskan priya\\appdata\\local\\programs\\python\\python311\\lib\\site-packages (from flask) (3.1.3)\n",
      "Requirement already satisfied: itsdangerous>=2.1.2 in c:\\users\\muskan priya\\appdata\\local\\programs\\python\\python311\\lib\\site-packages (from flask) (2.1.2)\n",
      "Requirement already satisfied: click>=8.1.3 in c:\\users\\muskan priya\\appdata\\local\\programs\\python\\python311\\lib\\site-packages (from flask) (8.1.7)\n",
      "Requirement already satisfied: blinker>=1.6.2 in c:\\users\\muskan priya\\appdata\\local\\programs\\python\\python311\\lib\\site-packages (from flask) (1.7.0)\n",
      "Requirement already satisfied: colorama in c:\\users\\muskan priya\\appdata\\roaming\\python\\python311\\site-packages (from click>=8.1.3->flask) (0.4.6)\n",
      "Requirement already satisfied: MarkupSafe>=2.0 in c:\\users\\muskan priya\\appdata\\local\\programs\\python\\python311\\lib\\site-packages (from Jinja2>=3.1.2->flask) (2.1.4)\n"
     ]
    }
   ],
   "source": [
    "pip install flask"
   ]
  },
  {
   "cell_type": "code",
   "execution_count": 2,
   "metadata": {},
   "outputs": [
    {
     "name": "stdout",
     "output_type": "stream",
     "text": [
      " * Serving Flask app '__main__'\n",
      " * Debug mode: off\n"
     ]
    },
    {
     "name": "stderr",
     "output_type": "stream",
     "text": [
      "WARNING: This is a development server. Do not use it in a production deployment. Use a production WSGI server instead.\n",
      " * Running on http://127.0.0.1:5000\n",
      "Press CTRL+C to quit\n",
      "127.0.0.1 - - [04/Mar/2024 11:14:56] \"GET / HTTP/1.1\" 200 -\n",
      "127.0.0.1 - - [04/Mar/2024 11:14:57] \"GET /favicon.ico HTTP/1.1\" 404 -\n"
     ]
    }
   ],
   "source": [
    "#Q2. Create a simple Flask application to display ‘Hello World!!’. Attach the screenshot of the output in Jupyter Notebook.\n",
    "\n",
    "from flask import Flask\n",
    "\n",
    "app = Flask(__name__)\n",
    "\n",
    "@app.route(\"/\")\n",
    "def hello_world():\n",
    "    return \"Hello World!!\"\n",
    "\n",
    "if __name__ == \"__main__\":\n",
    "    app.run()\n"
   ]
  },
  {
   "cell_type": "markdown",
   "metadata": {},
   "source": [
    "<img src= \"Screenshot-1.png\">"
   ]
  },
  {
   "cell_type": "code",
   "execution_count": null,
   "metadata": {},
   "outputs": [],
   "source": [
    "#Q3. What is App routing in Flask? Why do we use app routes?\n",
    "\n",
    "'''Answer:- In Flask, app routing refers to the mechanism by which URLs (Uniform Resource Locators) are mapped to Python functions. These functions are called view functions, and they generate responses to incoming requests to specific URLs. This process of mapping URLs to functions is essential for building web applications in Flask.\n",
    "App routes are defined using the @app.route() decorator in Flask. This decorator associates a URL pattern (route) with a specific view function.\n",
    "\n",
    "App routes are used for several reasons:\n",
    "\n",
    "1. Organizing URLs: App routes provide a clean and organized way to define URL endpoints for different parts of your application.\n",
    "2. Modularity: By associating specific URLs with separate view functions, Flask allows developers to modularize their code, making it easier to maintain and understand.\n",
    "3. Separation of Concerns: App routes help maintain the separation of concerns principle, where different parts of the application handle different responsibilities.\n",
    "4. URL Flexibility: Flask's routing system is flexible and supports dynamic URLs, allowing for parameters to be passed in the URL path.\n",
    "5. Ease of Development: Defining routes in Flask is straightforward and intuitive, making it easier for developers to create web applications.'''"
   ]
  },
  {
   "cell_type": "code",
   "execution_count": 10,
   "metadata": {},
   "outputs": [
    {
     "name": "stdout",
     "output_type": "stream",
     "text": [
      " * Serving Flask app '__name__'\n",
      " * Debug mode: off\n"
     ]
    },
    {
     "name": "stderr",
     "output_type": "stream",
     "text": [
      "WARNING: This is a development server. Do not use it in a production deployment. Use a production WSGI server instead.\n",
      " * Running on http://127.0.0.1:5000\n",
      "Press CTRL+C to quit\n"
     ]
    },
    {
     "name": "stderr",
     "output_type": "stream",
     "text": [
      "127.0.0.1 - - [04/Mar/2024 12:06:15] \"GET / HTTP/1.1\" 200 -\n",
      "127.0.0.1 - - [04/Mar/2024 12:06:16] \"GET /favicon.ico HTTP/1.1\" 404 -\n",
      "127.0.0.1 - - [04/Mar/2024 12:06:25] \"GET /welcome HTTP/1.1\" 200 -\n"
     ]
    }
   ],
   "source": [
    "'''Q4. Create a “/welcome” route to display the welcome message “Welcome to ABC Corporation” and a “/” route to show the following details:\n",
    "\n",
    "Company Name: ABC Corporation\n",
    "Location: India\n",
    "Contact Detail: 999-999-9999\n",
    "\n",
    "Attach the screenshot of the output in Jupyter Notebook.'''\n",
    "\n",
    "from flask import Flask\n",
    "\n",
    "app = Flask(\"__name__\")\n",
    "\n",
    "@app.route(\"/\")\n",
    "def index():\n",
    "    company_details = \"\"\" \n",
    "    Company Name: ABC Corporation\n",
    "    Location: India\n",
    "    Contact Detail: 999-999-9999\n",
    "    \"\"\"\n",
    "\n",
    "    return company_details\n",
    "\n",
    "@app.route(\"/welcome\")\n",
    "def welcome():\n",
    "    return \"Welcome to ABC Corporation\"\n",
    "\n",
    "if __name__ == \"__main__\":\n",
    "    app.run()\n"
   ]
  },
  {
   "cell_type": "markdown",
   "metadata": {},
   "source": [
    "<img src=\"Screenshot-2.png\">"
   ]
  },
  {
   "cell_type": "markdown",
   "metadata": {},
   "source": [
    "<img src=\"Screenshot-3.png\">"
   ]
  },
  {
   "cell_type": "code",
   "execution_count": 11,
   "metadata": {},
   "outputs": [
    {
     "name": "stdout",
     "output_type": "stream",
     "text": [
      " * Serving Flask app '__main__'\n",
      " * Debug mode: off\n"
     ]
    },
    {
     "name": "stderr",
     "output_type": "stream",
     "text": [
      "WARNING: This is a development server. Do not use it in a production deployment. Use a production WSGI server instead.\n",
      " * Running on http://127.0.0.1:5000\n",
      "Press CTRL+C to quit\n",
      "127.0.0.1 - - [04/Mar/2024 12:20:28] \"GET / HTTP/1.1\" 200 -\n",
      "127.0.0.1 - - [04/Mar/2024 12:20:40] \"GET /about HTTP/1.1\" 200 -\n"
     ]
    }
   ],
   "source": [
    "#Q5. What function is used in Flask for URL Building? Write a Python code to demonstrate the working of the url_for() function.\n",
    "\n",
    "'''Answer:- In Flask, the 'url_for()' function is used for URL building. It generates a URL to the specified endpoint. It accepts the name of the endpoint and any arguments needed to build the URL.'''\n",
    "\n",
    "from flask import Flask, url_for\n",
    "\n",
    "app = Flask(__name__)\n",
    "\n",
    "@app.route('/')\n",
    "def index():\n",
    "    return f'This is the index page. <a href=\"{url_for(\"about\")}\">Go to About</a>'\n",
    "\n",
    "@app.route('/about')\n",
    "def about():\n",
    "    return f'This is the about page. <a href=\"{url_for(\"index\")}\">Go back to Index</a>'\n",
    "\n",
    "if __name__ == '__main__':\n",
    "    app.run()\n"
   ]
  },
  {
   "cell_type": "markdown",
   "metadata": {},
   "source": [
    "<img src=\"Screenshot-4.png\">"
   ]
  },
  {
   "cell_type": "markdown",
   "metadata": {},
   "source": [
    "<img src=\"Screenshot-5.png\">"
   ]
  }
 ],
 "metadata": {
  "kernelspec": {
   "display_name": "Python 3",
   "language": "python",
   "name": "python3"
  },
  "language_info": {
   "codemirror_mode": {
    "name": "ipython",
    "version": 3
   },
   "file_extension": ".py",
   "mimetype": "text/x-python",
   "name": "python",
   "nbconvert_exporter": "python",
   "pygments_lexer": "ipython3",
   "version": "3.11.4"
  }
 },
 "nbformat": 4,
 "nbformat_minor": 2
}
