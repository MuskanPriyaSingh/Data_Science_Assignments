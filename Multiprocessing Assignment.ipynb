{
 "cells": [
  {
   "cell_type": "code",
   "execution_count": 2,
   "metadata": {},
   "outputs": [
    {
     "name": "stdout",
     "output_type": "stream",
     "text": [
      "Main process\n"
     ]
    }
   ],
   "source": [
    "'''Q1. What is multiprocessing in python? Why is it useful?\n",
    "\n",
    "Answer- Multiprocessing in Python refers to the ability of a program to create and run multiple processes concurrently. A process is an independent program that runs in its own memory space and has its own resources, such as variables and files. Unlike multithreading, multiprocessing allows parallel execution of multiple processes, and each process runs independently, with its own Global Interpreter Lock (GIL).\n",
    "It is useful for:-\n",
    "1. Parallelism: Multiprocessing enables the execution of multiple processes in parallel, making it suitable for CPU-bound tasks.\n",
    "2. Separate Memory Space: Each process has its own memory space, which reduces the likelihood of data corruption due to shared data.\n",
    "3. Improved Performance: For computationally intensive tasks, multiprocessing can significantly improve performance by distributing the workload across multiple processes. \n",
    "4. Fault Isolation: Since each process runs independently, a failure or crash in one process does not affect others. This helps with fault isolation and makes the overall program more robust.\n",
    "5. Avoidance of Global Interpreter Lock (GIL): In Python, the GIL limits the execution of multiple threads in a single process. Multiprocessing allows bypassing the GIL by running multiple processes, each with its own interpreter and GIL.\n",
    "6. Scalability: Multiprocessing is scalable, making it suitable for large-scale parallel processing tasks. \n",
    "'''\n",
    "import multiprocessing\n",
    "\n",
    "def worker_function():\n",
    "    print(\"Worker process\")\n",
    "\n",
    "if __name__ == \"__main__\":\n",
    "    # Create a multiprocessing process\n",
    "    process = multiprocessing.Process(target=worker_function)\n",
    "\n",
    "    # Start the process\n",
    "    process.start()\n",
    "\n",
    "    # Wait for the process to finish\n",
    "    process.join()\n",
    "\n",
    "    print(\"Main process\")\n",
    "\n",
    "'''Output- Worker process\n",
    "           Main process'''"
   ]
  },
  {
   "cell_type": "code",
   "execution_count": null,
   "metadata": {},
   "outputs": [],
   "source": [
    "'''Q2. What are the differences between multiprocessing and multithreading?\n",
    "\n",
    "Answer- Multiprocessing and multithreading are both techniques used to achieve parallelism in a program, but they have key differences in terms of their implementation, use cases, and how they handle concurrent execution. Here are some of the main differences between multiprocessing and multithreading:\n",
    "\n",
    "Multiprocessing:-\n",
    "1.Involves multiple independent processes.\n",
    "2.Each process has its own memory space and interpreter.\n",
    "3.True parallelism is achieved.\n",
    "4.Requires interprocess communication (IPC).\n",
    "5.Suitable for CPU-bound tasks.\n",
    "\n",
    "Multithreading:-\n",
    "1.Involves multiple threads within the same process.\n",
    "2.Threads share the same memory space.\n",
    "3.Limited by Python's Global Interpreter Lock (GIL).\n",
    "4.Communication is simpler but must handle race conditions.\n",
    "5.Suitable for I/O-bound tasks and concurrent operations with shared resources.\n",
    "'''"
   ]
  },
  {
   "cell_type": "code",
   "execution_count": 4,
   "metadata": {},
   "outputs": [
    {
     "name": "stdout",
     "output_type": "stream",
     "text": [
      "Main process completed.\n"
     ]
    }
   ],
   "source": [
    "# Q3. Write a python code to create a process using the multiprocessing module.\n",
    "import multiprocessing\n",
    "import time\n",
    "\n",
    "def worker_function():\n",
    "    print(\"Worker process is running.\")\n",
    "    time.sleep(2)\n",
    "    print(\"Worker process completed.\")\n",
    "\n",
    "if __name__ == \"__main__\":\n",
    "    \n",
    "    process = multiprocessing.Process(target=worker_function)\n",
    "\n",
    "    process.start()\n",
    "\n",
    "    process.join()\n",
    "\n",
    "    print(\"Main process completed.\")\n",
    "\n",
    "'''Output- Worker process is running.\n",
    "           Worker process completed.\n",
    "           Main process completed.''' \n"
   ]
  },
  {
   "cell_type": "code",
   "execution_count": 1,
   "metadata": {},
   "outputs": [],
   "source": [
    "'''Q4. What is a multiprocessing pool in python? Why is it used?\n",
    "\n",
    "Answer- A multiprocessing pool in Python, provided by the 'multiprocessing' module, is a mechanism for parallelizing the execution of a function across multiple input values. It allows you to distribute the workload among multiple processes, making it a convenient tool for parallel processing and achieving better performance, especially in CPU-bound tasks.\n",
    "\n",
    "The primary class for creating a multiprocessing pool is 'multiprocessing.Pool'. This class provides a high-level interface for parallel execution by distributing tasks to a pool of worker processes. '''\n",
    "import multiprocessing\n",
    "\n",
    "# Create a multiprocessing pool with 4 worker processes\n",
    "pool = multiprocessing.Pool(processes=4)\n"
   ]
  },
  {
   "cell_type": "code",
   "execution_count": 2,
   "metadata": {},
   "outputs": [],
   "source": [
    "'''Q5. How can we create a pool of worker processes in python using the multiprocessing module?\n",
    "\n",
    "Answer- To create a pool of worker processes in Python using the multiprocessing module, you can use the 'Pool' class.\n",
    "'''\n",
    "import multiprocessing\n",
    "\n",
    "def worker_function(x):\n",
    "    return x * x\n",
    "\n",
    "if __name__ == \"__main__\":\n",
    "    # Create a multiprocessing pool with 4 worker processes\n",
    "    with multiprocessing.Pool(processes=4) as pool:\n",
    "        # Define a list of input values\n",
    "        input_values = [1, 2, 3, 4, 5]\n",
    "\n",
    "        # Use the pool to apply the worker function to each input value in parallel\n",
    "        results = pool.map(worker_function, input_values)\n",
    "\n",
    "    # The pool is automatically closed and resources are released when using the 'with' statement\n",
    "\n",
    "    print(\"Results:\", results)\n",
    "\n",
    "# Output- Results: [1, 4, 9, 16, 25]"
   ]
  },
  {
   "cell_type": "code",
   "execution_count": 1,
   "metadata": {},
   "outputs": [],
   "source": [
    "# Q6. Write a python program to create 4 processes, each process should print a different number using the multiprocessing module in python.\n",
    "import multiprocessing\n",
    "\n",
    "def print_number(number):\n",
    "    print(f\"Process {number}: {number}\")\n",
    "\n",
    "if __name__ == \"__main__\":\n",
    "    \n",
    "    with multiprocessing.Pool(processes=4) as pool: \n",
    "        numbers = [1, 2, 3, 4]\n",
    "        pool.map(print_number, numbers)\n",
    "\n",
    "'''Output- Process 1: 1\n",
    "           Process 2: 2\n",
    "           Process 3: 3\n",
    "           Process 4: 4\n",
    "'''"
   ]
  }
 ],
 "metadata": {
  "kernelspec": {
   "display_name": "Python 3",
   "language": "python",
   "name": "python3"
  },
  "language_info": {
   "codemirror_mode": {
    "name": "ipython",
    "version": 3
   },
   "file_extension": ".py",
   "mimetype": "text/x-python",
   "name": "python",
   "nbconvert_exporter": "python",
   "pygments_lexer": "ipython3",
   "version": "3.11.4"
  }
 },
 "nbformat": 4,
 "nbformat_minor": 2
}
