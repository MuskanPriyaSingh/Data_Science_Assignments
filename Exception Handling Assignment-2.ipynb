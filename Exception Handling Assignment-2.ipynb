{
 "cells": [
  {
   "cell_type": "code",
   "execution_count": 1,
   "metadata": {},
   "outputs": [
    {
     "name": "stdout",
     "output_type": "stream",
     "text": [
      "Caught custom exception: This is a specific error condition.\n"
     ]
    }
   ],
   "source": [
    "'''Q1. Explain why we have to use the Exception class while creating a Custom Exception.\n",
    "\n",
    "Note: Here Exception class refers to the base class for all the exceptions.\n",
    "\n",
    "Answer- In Python, the 'Exception' class serves as the base class for all built-in exceptions. When creating a custom exception, it is recommended to inherit from the 'Exception' class or one of its subclasses. Here are a few reasons why:\n",
    "a. Inheriting from the 'Exception' class ensures that your custom exception is part of the Python exception hierarchy. \n",
    "b. Python's exception-handling mechanisms are designed to work with exceptions that are subclasses of 'BaseException' or 'Exception'.\n",
    "c. Following the convention of inheriting from the 'Exception' class makes your code more readable and understandable to other developers. \n",
    "d. Inheriting from 'Exception' allows your custom exception to carry a message and other attributes that can be accessed and displayed when the exception is caught.\n",
    "'''\n",
    "class CustomError(Exception):\n",
    "    def __init__(self, message=\"A custom error occurred\"):\n",
    "        self.message = message         \n",
    "        super().__init__(self.message)\n",
    "\n",
    "# Using the custom exception\n",
    "try:\n",
    "    raise CustomError(\"This is a specific error condition.\")\n",
    "except CustomError as e:\n",
    "    print(f\"Caught custom exception: {e}\")"
   ]
  },
  {
   "cell_type": "code",
   "execution_count": 2,
   "metadata": {},
   "outputs": [
    {
     "name": "stdout",
     "output_type": "stream",
     "text": [
      "exception_class.__name__\n",
      " exception_class.__name__\n",
      "  exception_class.__name__\n"
     ]
    }
   ],
   "source": [
    "'''Q2. Write a python program to print Python Exception Hierarchy.\n",
    "\n",
    "Answer- You can use the '__bases__' attribute of exception classes to explore the Python Exception Hierarchy.\n",
    "'''\n",
    "\n",
    "def print_exception_hierarchy(exception_class, depth=0):\n",
    "    print(\" \" * depth + f\"exception_class.__name__\")\n",
    "    for subclass in exception_class.__bases__:\n",
    "        print_exception_hierarchy(subclass, depth + 1)\n",
    "\n",
    "# Print the exception hierarchy\n",
    "print_exception_hierarchy(Exception)        "
   ]
  },
  {
   "cell_type": "code",
   "execution_count": 6,
   "metadata": {},
   "outputs": [
    {
     "name": "stdout",
     "output_type": "stream",
     "text": [
      "Error: division by zero\n"
     ]
    }
   ],
   "source": [
    "'''Q3. What errors are defined in the ArithmeticError class? Explain any two with an example.\n",
    "\n",
    "Answer- The 'ArithmeticError' class in Python is a base class for arithmetic-related exceptions. It itself inherits from the 'Exception' class. Some common errors derived from 'ArithmeticError' include 'ZeroDivisionError' and 'OverflowError'.\n",
    "'''\n",
    "# (i) ZeroDivisionError: Occurs when attempting to divide a number by zero\n",
    "\n",
    "try:\n",
    "    result = 6/0\n",
    "except ZeroDivisionError as e:\n",
    "    print(f\"Error: {e}\")   \n"
   ]
  },
  {
   "cell_type": "code",
   "execution_count": 3,
   "metadata": {},
   "outputs": [
    {
     "name": "stdout",
     "output_type": "stream",
     "text": [
      "Unexpected error: could not convert string to float: 'str'\n"
     ]
    }
   ],
   "source": [
    "'''(ii) FloatingPointError: Occurs when a floating-point operation fails to produce a valid result.'''   \n",
    "\n",
    "try: \n",
    "    result = float('str')/float('-str')\n",
    "except FloatingPointError as e:\n",
    "    print(f\"Error: {e}\")\n",
    "except Exception as e:\n",
    "    print(f\"Unexpected error: {e}\")"
   ]
  },
  {
   "cell_type": "code",
   "execution_count": 5,
   "metadata": {},
   "outputs": [
    {
     "name": "stdout",
     "output_type": "stream",
     "text": [
      "Error: 'd'\n",
      "Error: list index out of range\n"
     ]
    }
   ],
   "source": [
    "'''Q4. Why LookupError class is used? Explain with an example KeyError and IndexError.\n",
    "\n",
    "Answer- The 'LookupError' class is a base class for exceptions that arise when a key or index is not found during a lookup operation. It serves as the parent class for various lookup-related exceptions in Python, including 'KeyError' and 'IndexError'.\n",
    "'''\n",
    "# A 'KeyError' is raised when a dictionary key is not found during a dictionary lookup.\n",
    "my_dict = {'a':1, 'b':2, 'c':3}\n",
    "\n",
    "try:\n",
    "    value = my_dict['d']\n",
    "except KeyError as e:\n",
    "    print(f\"Error: {e}\")\n",
    "\n",
    "# An 'IndexError' is raised when trying to access that is outside the range of a sequence, such as a list or a tuple.\n",
    "my_list = [1,2,3]\n",
    "\n",
    "try:\n",
    "    value = my_list[4]\n",
    "except IndexError as e:\n",
    "    print(f\"Error: {e}\")"
   ]
  },
  {
   "cell_type": "code",
   "execution_count": 7,
   "metadata": {},
   "outputs": [
    {
     "name": "stdout",
     "output_type": "stream",
     "text": [
      "Error: No module named 'non_existent_module'\n",
      "Unexpected error: No module named 'module_not_present'\n"
     ]
    }
   ],
   "source": [
    "'''Q5. Explain ImportError. What is ModuleNotFoundError?\n",
    "\n",
    "Answer- 'ImportError' is a built-in exception in Python that is raised when an import statement fails to locate and import a module. It is a general exception for import-related errors and can occur for various reasons, such as a missing module or an issue with the module's code.\n",
    "'''\n",
    "try:\n",
    "    import non_existent_module\n",
    "except ImportError as e:\n",
    "    print(f\"Error: {e}\")\n",
    "\n",
    "''' \"ModuleNotFound\" is a subclass of \"ImportError\" and is more specific. It is raised when an import statement fails to locate the specified module.\n",
    "'''    \n",
    "try:\n",
    "    import module_not_present\n",
    "except ModuleNotFoundError as e:\n",
    "    print(f\"Unexpected error: {e}\")"
   ]
  },
  {
   "cell_type": "code",
   "execution_count": null,
   "metadata": {},
   "outputs": [],
   "source": [
    "'''Q6. List down some best practices for exception handling in python.\n",
    "\n",
    "Answer- Exception handling is a crucial aspect of writing robust and maintainable Python code. Here are some best practices for effective exception handling in Python:\n",
    "1. Specific Exception Handling: Catch specific exceptions rather than using a generic 'except' block. This allows for more targeted handling of different error scenarios.\n",
    "2. Use the 'finally' Block: Use the finally block to ensure that cleanup or resource release code is executed, regardless of whether an exception is raised or not.\n",
    "3. Avoid Bare 'except': Avoid using bare 'except' without specifying the exception type, as it may catch unexpected errors and make debugging challenging.\n",
    "4. Handle Exception Close to the Source: Handle exceptions as close to the source as possible to provide more accurate error information and facilitate debugging.\n",
    "5. Logging: Use the 'logging' module to log exceptions. Logging helps in debugging and provides valuable information about the context of the error.\n",
    "6. Raising Exception: Raise exceptions when necessary to indicate error conditions. Choose or create exception classes that convey the nature of the error.\n",
    "7. Use 'with' Statement for Resource Management: Use the with statement for resource management, especially when dealing with files, sockets, or database connections. It automatically takes care of resource cleanup.\n",
    "8. Avoid Returning 'None' on Failure: Avoid returning None or other sentinel values to indicate failure. Instead, prefer raising exceptions to make error conditions explicit.\n",
    "9. Document Exception Handling: Document the exceptions that functions or methods may raise. This helps other developers understand the expected behavior and handle exceptions appropriately.\n",
    "10. Unit Testing: Write unit tests for code that may raise exceptions to ensure that exception handling works as expected.\n",
    "'''\n"
   ]
  }
 ],
 "metadata": {
  "kernelspec": {
   "display_name": "Python 3",
   "language": "python",
   "name": "python3"
  },
  "language_info": {
   "codemirror_mode": {
    "name": "ipython",
    "version": 3
   },
   "file_extension": ".py",
   "mimetype": "text/x-python",
   "name": "python",
   "nbconvert_exporter": "python",
   "pygments_lexer": "ipython3",
   "version": "3.11.4"
  }
 },
 "nbformat": 4,
 "nbformat_minor": 2
}
