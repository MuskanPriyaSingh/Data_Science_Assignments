{
 "cells": [
  {
   "cell_type": "code",
   "execution_count": 1,
   "metadata": {},
   "outputs": [
    {
     "name": "stdout",
     "output_type": "stream",
     "text": [
      "Hello World!\n"
     ]
    }
   ],
   "source": [
    "'''Q1. How do you comment code in Python? What are the different types of comments?\n",
    "\n",
    "Answer- In Python, comments are used to explain and document the code. Comments are ignored by the python interpreter and are for human readability. There are two main types of comments in Python:\n",
    "\n",
    "a). Single-line Comments: They are created using the '#' symbol and everything after the '#' on that line is considered a comment.\n",
    "b). Multi-line Comments: They are created using triple-quotes(or \"\"\"). Although not officially comments, triple-quotes can be used as a workaround to create multi-line comments.\n",
    "'''\n",
    "print(\"Hello World!\") # Single line comment."
   ]
  },
  {
   "cell_type": "code",
   "execution_count": 2,
   "metadata": {},
   "outputs": [
    {
     "name": "stdout",
     "output_type": "stream",
     "text": [
      "<class 'str'>:Muskan\n"
     ]
    }
   ],
   "source": [
    "'''Q2. What are variables in Python? How do you declare and assign values to variables?\n",
    "\n",
    "Answer- In Python, a variable is a symbolic name that represents a value. Variables are used to store and manipulate data in a program. Unlike some other programming languages, you don't need to explicitly declare the type of a variable in Python, the interpreter infers the type based on the assigned value\n",
    "'''\n",
    "variable_name=\"Muskan\"\n",
    "print(f\"{type(variable_name)}:{variable_name}\")"
   ]
  },
  {
   "cell_type": "code",
   "execution_count": 4,
   "metadata": {},
   "outputs": [
    {
     "name": "stdout",
     "output_type": "stream",
     "text": [
      "123\n",
      "123.0\n",
      "123.0\n"
     ]
    }
   ],
   "source": [
    "'''Q3. How do you convert one data type to another in Python?\n",
    "\n",
    "Answer- In Python, you can convert one data type to another using various built-in funcions. Example-'int()', 'float()', 'str()'. But not all conversions are possible, and attempting to convert incompatible types may result in errors. Example- you can't convert a string that doesn't represent a valid number to an integer or float directly. In such cases, you may need to handle exceptions using 'try' and 'except' blocks.\n",
    "'''\n",
    "num_str='123'\n",
    "num_int=int(num_str)\n",
    "print(num_int)\n",
    "\n",
    "num_float=float(num_int)\n",
    "print(num_float)\n",
    "\n",
    "result_str=str(num_float)\n",
    "print(result_str)"
   ]
  },
  {
   "cell_type": "code",
   "execution_count": null,
   "metadata": {},
   "outputs": [],
   "source": [
    "'''Q4. How do you write and execute a Python script from the command line?\n",
    "\n",
    "Answer- Writing a Python Script:\n",
    "   1. Open a Text Editor: Use a text editor like VSCode to create a new file.\n",
    "   2. Write Your Python Code: Write your python code in the text editor. Save the file with a '.py' extension, which indicates that it is a Python script.\n",
    "   Example: hello.py\n",
    "\n",
    "   Executing a Python Script from the Command Line:\n",
    "   1. Open a Command Prompt on Windows or Terminal on macOS/Linux.\n",
    "   2. Navigate to the Script's Directory: Use the 'cd' command to navigate to the directory where your python script is located.\n",
    "   Example: cd path/to/your/script/directory \n",
    "\n",
    "   3. Run the Python Script: To execute the script, use the 'python' command followed by the script's filename.\n",
    "    Example: python hello.py\n",
    "\n",
    "    If you are using python3, you might need to use 'python3' instead of 'python': python3 hello.py\n",
    "    \n",
    "    The output of the script will be displayed in the command prompt or terminal.\n",
    "'''\n"
   ]
  },
  {
   "cell_type": "code",
   "execution_count": 1,
   "metadata": {},
   "outputs": [
    {
     "name": "stdout",
     "output_type": "stream",
     "text": [
      "[2, 3]\n"
     ]
    }
   ],
   "source": [
    "#Q5. Given a list my_list = [1, 2, 3, 4, 5], write the code to slice the list and obtain the sub-list [2, 3].\n",
    "\n",
    "my_list=[1,2,3,4,5]\n",
    "\n",
    "sub_list=my_list[1:3]\n",
    "print(sub_list)"
   ]
  },
  {
   "cell_type": "code",
   "execution_count": 3,
   "metadata": {},
   "outputs": [
    {
     "name": "stdout",
     "output_type": "stream",
     "text": [
      "(5+9j)\n",
      "5.0\n",
      "9.0\n",
      "(7+5j)\n",
      "5.0\n",
      "9.0\n"
     ]
    }
   ],
   "source": [
    "'''Q6. What is a complex number in mathematics, and how is it represented in Python?\n",
    "\n",
    "Answer- In mathematics, a complex number is a number that can be expressed in the form a + ib, where a and b are real numbers, and i is the imaginary unit, which is defined by the property i^2 = -1. The real part a and the imaginary part b are both real numbers, and the imaginary part is multiplied by i. \n",
    "In Python, complex numbers are represented using the 'complex()' function or by using the 'j' or 'J' suffix for the imaginary part. For example: \n",
    "'''\n",
    "z1 = complex(5,9)\n",
    "z2 = 7 + 5j\n",
    "\n",
    "print(z1)\n",
    "print(z1.real)\n",
    "print(z1.imag)\n",
    "\n",
    "print(z2)\n",
    "print(z1.real)\n",
    "print(z1.imag)"
   ]
  },
  {
   "cell_type": "code",
   "execution_count": 4,
   "metadata": {},
   "outputs": [],
   "source": [
    "#Q7. What is the correct way to declare a variable named age and assign the value 25 to it?\n",
    "\n",
    "age = 25"
   ]
  },
  {
   "cell_type": "code",
   "execution_count": 5,
   "metadata": {},
   "outputs": [
    {
     "name": "stdout",
     "output_type": "stream",
     "text": [
      "<class 'float'>\n"
     ]
    }
   ],
   "source": [
    "#Q8. Declare a variable named price and assign the value 9.99 to it. What data type does this variable belong to?\n",
    "\n",
    "price = 9.99\n",
    "print(type(price))"
   ]
  },
  {
   "cell_type": "code",
   "execution_count": 6,
   "metadata": {},
   "outputs": [
    {
     "name": "stdout",
     "output_type": "stream",
     "text": [
      "Muskan\n"
     ]
    }
   ],
   "source": [
    "#Q9. Create a variable named name and assign your full name to it as a string. How would you print the value of this variable?\n",
    "\n",
    "name = \"Muskan\"\n",
    "print(name)"
   ]
  },
  {
   "cell_type": "code",
   "execution_count": 8,
   "metadata": {},
   "outputs": [
    {
     "name": "stdout",
     "output_type": "stream",
     "text": [
      "World\n"
     ]
    }
   ],
   "source": [
    "#Q10. Given the string \"Hello, World!\", extract the substring \"World\".\n",
    "\n",
    "defined_string=\"Hello, World!\"\n",
    "\n",
    "extract_string=defined_string[7:12]\n",
    "print(extract_string)"
   ]
  },
  {
   "cell_type": "code",
   "execution_count": 9,
   "metadata": {},
   "outputs": [
    {
     "name": "stdout",
     "output_type": "stream",
     "text": [
      "I'm currently a student: True\n"
     ]
    }
   ],
   "source": [
    "#Q11. Create a variable named \"is_student\" and assign it a boolean value indicating whether you are currently a student or not.\n",
    "\n",
    "is_student= True\n",
    "\n",
    "print(f\"I'm currently a student: {is_student}\")"
   ]
  }
 ],
 "metadata": {
  "kernelspec": {
   "display_name": "Python 3",
   "language": "python",
   "name": "python3"
  },
  "language_info": {
   "codemirror_mode": {
    "name": "ipython",
    "version": 3
   },
   "file_extension": ".py",
   "mimetype": "text/x-python",
   "name": "python",
   "nbconvert_exporter": "python",
   "pygments_lexer": "ipython3",
   "version": "3.11.4"
  }
 },
 "nbformat": 4,
 "nbformat_minor": 2
}
