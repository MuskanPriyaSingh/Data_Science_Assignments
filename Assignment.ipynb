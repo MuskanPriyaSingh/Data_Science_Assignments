{
 "cells": [
  {
   "cell_type": "code",
   "execution_count": 1,
   "metadata": {},
   "outputs": [
    {
     "name": "stdout",
     "output_type": "stream",
     "text": [
      "['Hello World!', [1, 4, 6, 7], 34.27, (8, 3, 6, 9)]\n"
     ]
    }
   ],
   "source": [
    "#Q1. Create one variable containing following type of data: (i)string (ii)list (iii)float (iv)tuple.\n",
    "\n",
    "my_variable=[\"Hello World!\",[1,4,6,7], 34.27, (8,3,6,9)]\n",
    "\n",
    "print(my_variable)"
   ]
  },
  {
   "cell_type": "code",
   "execution_count": 3,
   "metadata": {},
   "outputs": [
    {
     "name": "stdout",
     "output_type": "stream",
     "text": [
      "<class 'str'>\n",
      "<class 'str'>\n",
      "<class 'list'>\n",
      "<class 'int'>\n"
     ]
    }
   ],
   "source": [
    "#Q2. Given are some following variables containing data: (i)var1='' (ii)var2='[DS, ML, Python]' (iii)var3=['DS', 'ML', 'Python'] (iv)var4=1. What will be the data type of the above given variable.\n",
    "\n",
    " \n",
    "var1=''\n",
    "print(type(var1))\n",
    "\n",
    "var2='[DS, ML, Python]'\n",
    "print(type(var2))\n",
    "\n",
    "var3=['DS', 'ML', 'Python']\n",
    "print(type(var3))\n",
    "\n",
    "var4=1\n",
    "print(type(var4))"
   ]
  },
  {
   "cell_type": "code",
   "execution_count": 4,
   "metadata": {},
   "outputs": [
    {
     "name": "stdout",
     "output_type": "stream",
     "text": [
      "18.666666666666668\n",
      "2\n",
      "18\n",
      "175616\n"
     ]
    }
   ],
   "source": [
    "#Q3. Explain the use of the following operators using an example: (i)/ (ii)% (iii)// (iv)**\n",
    "\n",
    "number1=56\n",
    "number2=3\n",
    "\n",
    "#Division\n",
    "print(number1/number2)\n",
    "\n",
    "#Modulus\n",
    "print(number1%number2)\n",
    "\n",
    "#Floral Division\n",
    "print(number1//number2)\n",
    "\n",
    "#Exponent\n",
    "print(number1**number2)"
   ]
  },
  {
   "cell_type": "code",
   "execution_count": 5,
   "metadata": {},
   "outputs": [
    {
     "name": "stdout",
     "output_type": "stream",
     "text": [
      "Element:4, Data Type<class 'int'>\n",
      "Element:Python World!, Data Type<class 'str'>\n",
      "Element:3.14, Data Type<class 'float'>\n",
      "Element:True, Data Type<class 'bool'>\n",
      "Element:[6, 4, 8, 9], Data Type<class 'list'>\n",
      "Element:{'key': 'value'}, Data Type<class 'dict'>\n",
      "Element:None, Data Type<class 'NoneType'>\n",
      "Element:(49, 20), Data Type<class 'tuple'>\n",
      "Element:Hello!, Data Type<class 'str'>\n",
      "Element:False, Data Type<class 'bool'>\n"
     ]
    }
   ],
   "source": [
    "#Q4. Create a list of length 10 of your choice containing multiple types of data. Using for loop print the element and its data type.\n",
    "\n",
    "my_list=[4, 'Python World!', 3.14, True, [6,4,8,9], {\"key\":\"value\"}, None, (49,20), \"Hello!\", False]\n",
    "\n",
    "for element in my_list:\n",
    "    print(f\"Element:{element}, Data Type{type(element)}\")"
   ]
  },
  {
   "cell_type": "code",
   "execution_count": 8,
   "metadata": {},
   "outputs": [
    {
     "name": "stdout",
     "output_type": "stream",
     "text": [
      "15 is divisible by 2 :3 times.\n"
     ]
    }
   ],
   "source": [
    "#Q5. Using a while loop, verify if the number A is purely divisible by number B and if so then how many times it can be divisible.\n",
    "\n",
    "number_A=int(input(\"Enter the value for number A: \"))\n",
    "number_B=int(input(\"Enter the value for number B: \"))\n",
    "\n",
    "divisible_count=0\n",
    "\n",
    "while number_A % number_B == 0:\n",
    "    number_A=number_A//number_B\n",
    "    divisible_count += 1\n",
    "\n",
    "if divisible_count > 0:\n",
    "    print(f\"{number_A} is divisible by {number_B} :{divisible_count} times.\")  \n",
    "else:(f\"{number_A} is not purely divisible by {number_B}.\")      "
   ]
  },
  {
   "cell_type": "code",
   "execution_count": 9,
   "metadata": {},
   "outputs": [
    {
     "name": "stdout",
     "output_type": "stream",
     "text": [
      "1 is not divisible by 3.\n",
      "2 is not divisible by 3.\n",
      "3 is divisible by 3.\n",
      "4 is not divisible by 3.\n",
      "5 is not divisible by 3.\n",
      "6 is divisible by 3.\n",
      "7 is not divisible by 3.\n",
      "8 is not divisible by 3.\n",
      "9 is divisible by 3.\n",
      "10 is not divisible by 3.\n",
      "11 is not divisible by 3.\n",
      "12 is divisible by 3.\n",
      "13 is not divisible by 3.\n",
      "14 is not divisible by 3.\n",
      "15 is divisible by 3.\n",
      "16 is not divisible by 3.\n",
      "17 is not divisible by 3.\n",
      "18 is divisible by 3.\n",
      "19 is not divisible by 3.\n",
      "20 is not divisible by 3.\n",
      "21 is divisible by 3.\n",
      "22 is not divisible by 3.\n",
      "23 is not divisible by 3.\n",
      "24 is divisible by 3.\n",
      "25 is not divisible by 3.\n"
     ]
    }
   ],
   "source": [
    "#Q6. Create a list containing 25 int type data. Using for loop and if-else condition print if the element is divisible by 3 or not.\n",
    "\n",
    "number_list=[1,2,3,4,5,6,7,8,9,10,11,12,13,14,15,16,17,18,19,20,21,22,23,24,25]\n",
    "\n",
    "for element in number_list:\n",
    "    if element % 3 == 0:\n",
    "        print(f\"{element} is divisible by 3.\")\n",
    "    else:\n",
    "        print(f\"{element} is not divisible by 3.\")    \n"
   ]
  },
  {
   "cell_type": "code",
   "execution_count": null,
   "metadata": {},
   "outputs": [],
   "source": [
    "#Q7. What do you understand about mutable and immutable data types? Give examples for both showing this property.\n",
    "\n",
    "#Answer- Mutable and Immutable are terms used to describe the ability or inability to modify an object after it has been created."
   ]
  },
  {
   "cell_type": "code",
   "execution_count": 11,
   "metadata": {},
   "outputs": [
    {
     "name": "stdout",
     "output_type": "stream",
     "text": [
      "[1, 2, 4, 5, 7, 3]\n"
     ]
    }
   ],
   "source": [
    "# Mutable objects can be modified after they are created. This means you can change their state or content without creating a new object. Example- list, dict and set are mutable data types.\n",
    "\n",
    "list_a=[1,2,4,5,7]\n",
    "list_b= list_a\n",
    "\n",
    "list_a.append(3)\n",
    "print(list_b)"
   ]
  },
  {
   "cell_type": "code",
   "execution_count": 12,
   "metadata": {},
   "outputs": [
    {
     "name": "stdout",
     "output_type": "stream",
     "text": [
      "5\n"
     ]
    }
   ],
   "source": [
    "# Immutable objects cannot be changed once they created. Any operation that appears to modify the object actually creates a new object. Example- int, float, str, tuple.\n",
    "\n",
    "a=5   # int\n",
    "b=a   # b references the same value as a\n",
    "\n",
    "a += 1 # this creates a new integer object with the value 6 \n",
    "print(b) # b still references the original value 5"
   ]
  }
 ],
 "metadata": {
  "kernelspec": {
   "display_name": "Python 3",
   "language": "python",
   "name": "python3"
  },
  "language_info": {
   "codemirror_mode": {
    "name": "ipython",
    "version": 3
   },
   "file_extension": ".py",
   "mimetype": "text/x-python",
   "name": "python",
   "nbconvert_exporter": "python",
   "pygments_lexer": "ipython3",
   "version": "3.11.4"
  }
 },
 "nbformat": 4,
 "nbformat_minor": 2
}
