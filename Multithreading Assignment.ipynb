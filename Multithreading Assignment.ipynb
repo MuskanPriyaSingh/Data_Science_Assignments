{
 "cells": [
  {
   "cell_type": "code",
   "execution_count": null,
   "metadata": {},
   "outputs": [],
   "source": [
    "'''Q1. What is multithreading in python? Why is it used? Name the module used to handle threads in python.\n",
    "\n",
    "Answer- Multithreading in Python refers to the concurrent execution of multiple threads within the same program. A thread is the smallest unit of execution within a process, and multithreading allows a program to execute multiple threads concurrently, enabling parallelism. Each thread runs independently but shares the same resources, such as memory space, within the process.\n",
    "Multithreading is used in Python to achieve parallelism, particularly in situations where tasks can be performed concurrently, improving overall program performance and responsiveness.\n",
    "In Python, the 'threading' module is commonly used to handle threads. \n",
    "'''"
   ]
  },
  {
   "cell_type": "code",
   "execution_count": 8,
   "metadata": {},
   "outputs": [
    {
     "name": "stdout",
     "output_type": "stream",
     "text": [
      "Number of active threads: 6\n",
      "Current thread name: MainThread\n",
      "Thread name: MainThread\n",
      "Thread name: IOPub\n",
      "Thread name: Heartbeat\n",
      "Thread name: Control\n",
      "Thread name: IPythonHistorySavingThread\n",
      "Thread name: Thread-4\n"
     ]
    }
   ],
   "source": [
    "'''Q2. Why threading module used? Write the use of the following functions:\n",
    "1. activeCount()\n",
    "2. currentThread()\n",
    "3. enumerate()\n",
    "\n",
    "Answer- The 'threading' module in Python is used for creating and managing threads. It provides a higher-level interface compared to the deprecated 'thread' module.\n",
    "\n",
    "1. activeCount(): This function returns the number of Thread objects currently alive. A Thread object is considered alive from the moment it is created until it is terminated. This function is useful to get an overview of the number of active threads in your program.\n",
    "'''\n",
    "import threading\n",
    "\n",
    "print(\"Number of active threads:\", threading.active_count())\n",
    "\n",
    "'''2. currentThread(): This function returns the current Thread object, corresponding to the caller's thread of control. It can be useful to identify the currently executing thread and access its attributes.\n",
    "'''\n",
    "current_thread = threading.current_thread() \n",
    "print(\"Current thread name:\", current_thread.name)\n",
    "\n",
    "'''3. enumerate: This function returns a list of all Thread objects currently alive. The list includes the main thread and all daemon threads. Each Thread object in the list can be queried for its attributes.\n",
    "'''\n",
    "threads = threading.enumerate()\n",
    "for thread in threads:\n",
    "    print(\"Thread name:\", thread.name)"
   ]
  },
  {
   "cell_type": "code",
   "execution_count": 16,
   "metadata": {},
   "outputs": [
    {
     "name": "stdout",
     "output_type": "stream",
     "text": [
      "Thread is running!\n",
      "Thread is running!\n",
      "Thread has finished.\n",
      "Is the thread alive? True\n",
      "Is the thread alive? False\n"
     ]
    }
   ],
   "source": [
    "'''Q3. Explain the following functions:\n",
    "1. run()\n",
    "2. start()\n",
    "3. join()\n",
    "4. isAlive()\n",
    "\n",
    "Answer- 1. run(): The 'run()' method is the entry point for the thread's activity. You can override this method in a subclass to define the code that constitutes the new thread. When a thread is started using the 'start()' method, the 'run()' method is called in that separate thread.\n",
    "'''\n",
    "import threading\n",
    "\n",
    "class MyThread(threading.Thread):\n",
    "    def run(self):\n",
    "        print(\"Thread is running!\")\n",
    "\n",
    "my_thread = MyThread()\n",
    "my_thread.run() # This would execute the run method in the current thread, not a separate thread.\n",
    "\n",
    "'''2. start():  The 'start()' method is used to initiate the execution of the thread. When you call 'start()', it creates a new thread of execution and invokes the 'run()' method in that separate thread. It is crucial to use 'start()' instead of calling 'run()' directly if you want the code to run in parallel.\n",
    "'''\n",
    "my_thread.start() #This creates a new thread and executes the run method in that thread.\n",
    "\n",
    "'''3. join(): The 'join()' method is used to wait for the thread to complete its execution. When you call 'join()' on a thread, the program waits until the thread finishes before proceeding to the next instructions.\n",
    "'''\n",
    "my_thread.join() # Wait for the thread to finish before moving on.\n",
    "print(\"Thread has finished.\")\n",
    "\n",
    "'''4. isAlive(): The 'isAlive()' method returns 'True' if the thread is currently executing, and 'False' otherwise. It provides a way to check the status of a thread and determine whether it has completed its execution.\n",
    "'''\n",
    "import time\n",
    "\n",
    "class Thread1(threading.Thread):\n",
    "    def run(self):\n",
    "        time.sleep(2)\n",
    "\n",
    "my_thread = Thread1()\n",
    "my_thread.start()\n",
    "print(\"Is the thread alive?\", my_thread.is_alive())  # Output: True\n",
    "my_thread.join()\n",
    "print(\"Is the thread alive?\", my_thread.is_alive())  # Output: False\n"
   ]
  },
  {
   "cell_type": "code",
   "execution_count": 17,
   "metadata": {},
   "outputs": [
    {
     "name": "stdout",
     "output_type": "stream",
     "text": [
      "Square of 1: 1\n",
      "Square of 2: 4\n",
      "Square of 3: 9\n",
      "Square of 4: 16\n",
      "Square of 5: 25\n",
      "Cubes of 1: 1\n",
      "Cubes of 2: 8\n",
      "Cubes of 3: 27\n",
      "Cubes of 4: 64\n",
      "Cubes of 5: 125\n",
      "Both threads have finished.\n"
     ]
    }
   ],
   "source": [
    "'''Q4. Write a python program to create two threads. Thread one must print the list of squares and thread two must print the list of cubes.\n",
    "'''\n",
    "import threading\n",
    "\n",
    "def print_squares():\n",
    "    for i in range(1,6):\n",
    "        print(f\"Square of {i}: {i*i}\")\n",
    "\n",
    "def print_cubes():\n",
    "    for i in range(1,6):\n",
    "        print(f\"Cubes of {i}: {i*i*i}\")\n",
    "\n",
    "squares_thread = threading.Thread(target=print_squares)\n",
    "cubes_thread = threading.Thread(target=print_cubes)  \n",
    "\n",
    "squares_thread.start()\n",
    "cubes_thread.start()\n",
    "\n",
    "squares_thread.join()\n",
    "sssscubes_thread.join()\n",
    "\n",
    "print(\"Both threads have finished.\")"
   ]
  },
  {
   "cell_type": "code",
   "execution_count": null,
   "metadata": {},
   "outputs": [],
   "source": [
    "'''Q5. State advantages and disadvantages of multithreading.\n",
    "\n",
    "Answer- Advantages of Multithreading:-\n",
    "1. Parallelism: Multithreading enables parallel execution of tasks. This is particularly beneficial on multi-core processors, where different threads can run on different cores simultaneously, improving overall performance.\n",
    "2. Responsiveness: Multithreading can enhance the responsiveness of a program, especially in user interfaces. While one thread is handling a time-consuming task, other threads can continue to respond to user input, ensuring a more interactive user experience.\n",
    "3. Resource Sharing: Threads within the same process share the same resources, such as memory space. This allows for efficient communication and data sharing between threads, making it easier to work on shared data structures.\n",
    "4. Efficient I/O Operation: Multithreading is well-suited for I/O-bound tasks, where threads can perform input/output operations concurrently without waiting for one another. This can lead to better utilization of system resources.\n",
    "5. Modularity: Multithreading can enhance the modularity of a program by allowing different threads to handle different aspects of the application. This can result in cleaner, more maintainable code.\n",
    "\n",
    "Disadvantages of Multithreading:-\n",
    "1. Complexity: Multithreading introduces complexity to the code. Coordinating the execution of multiple threads and managing shared resources can be challenging. This complexity can lead to subtle bugs that are difficult to diagnose and fix.\n",
    "2. Concurrency Issues: Concurrent access to shared data can result in race conditions, deadlocks, and other concurrency-related issues. Proper synchronization mechanisms, such as locks, are required to prevent these problems, which adds another layer of complexity.\n",
    "3. Overhead: Creating and managing threads incurs overhead in terms of system resources. The overhead includes memory consumption, context switching, and synchronization mechanisms. For certain small-scale tasks, the overhead of managing threads might outweigh the benefits.\n",
    "4. Global Interpreter Lock (GIL): In Python, the Global Interpreter Lock (GIL) can limit the effectiveness of multithreading for CPU-bound tasks. The GIL allows only one thread to execute Python bytecode at a time, making it challenging to achieve true parallelism in certain scenarios.\n",
    "5.Debugging: Debugging multithreaded programs can be more challenging than debugging single-threaded ones. Race conditions and other concurrency issues may not always manifest consistently, making them harder to detect and reproduce.\n",
    "'''"
   ]
  },
  {
   "cell_type": "code",
   "execution_count": null,
   "metadata": {},
   "outputs": [],
   "source": [
    "'''Q6. Explain deadlocks and race conditions.\n",
    "\n",
    "Answer- A deadlock is a situation in concurrent programming where two or more threads are unable to proceed because each is waiting for the other to release a resource. In other words, a set of processes or threads become deadlocked when each process or thread is holding a resource and waiting for another resource acquired by some other process or thread, which is also waiting for another resource.\n",
    "\n",
    "Key conditions that must be present for a deadlock to occur:\n",
    "\n",
    "1. Mutual Exclusion: At least one resource must be held in a non-sharable mode; otherwise, the processes would not be prevented from using the resource when necessary.\n",
    "2. Hold and Wait: A process must be holding at least one resource and waiting to acquire additional resources that are currently held by other processes.\n",
    "3. No Preemption: Resources cannot be preempted (forcibly taken away from a process); they must be explicitly released by the process holding them.\n",
    "4. Circular Wait: A circular chain of processes, each waiting for a resource held by the next process in the chain, must exist. \n",
    "\n",
    "To resolve deadlocks, strategies such as deadlock detection and recovery, prevention through careful resource allocation, and avoidance by using techniques like resource allocation graphs are employed.\n",
    "\n",
    "Race Conditions: A race condition occurs in concurrent programming when the behavior of a program depends on the relative timing of events, such as the order in which threads are scheduled for execution. It arises when multiple threads access shared data or resources concurrently, and at least one of them modifies the data.\n",
    "\n",
    "Key points related to race conditions:\n",
    "\n",
    "1. Shared Data: Race conditions typically involve multiple threads accessing shared data or resources concurrently.\n",
    "2. Non-atomic Operations: If a sequence of non-atomic operations on shared data is not properly synchronized, it can lead to unexpected and erroneous behavior.\n",
    "3. Uncertain Timing: The outcome of a program becomes uncertain and may vary depending on the timing of thread execution and interleaving.\n",
    "4. Critical Sections: To prevent race conditions, critical sections of code, where shared data is accessed or modified, must be protected using synchronization mechanisms like locks.\n",
    "\n",
    "Common techniques to address race conditions include the use of locks, mutexes, semaphores, and other synchronization mechanisms to ensure that only one thread at a time can access critical sections of code.\n",
    "'''"
   ]
  }
 ],
 "metadata": {
  "kernelspec": {
   "display_name": "Python 3",
   "language": "python",
   "name": "python3"
  },
  "language_info": {
   "codemirror_mode": {
    "name": "ipython",
    "version": 3
   },
   "file_extension": ".py",
   "mimetype": "text/x-python",
   "name": "python",
   "nbconvert_exporter": "python",
   "pygments_lexer": "ipython3",
   "version": "3.11.4"
  }
 },
 "nbformat": 4,
 "nbformat_minor": 2
}
