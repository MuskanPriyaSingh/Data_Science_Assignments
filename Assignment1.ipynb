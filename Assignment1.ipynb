{
 "cells": [
  {
   "cell_type": "code",
   "execution_count": 1,
   "metadata": {},
   "outputs": [
    {
     "name": "stdout",
     "output_type": "stream",
     "text": [
      "[1, 3, 5, 7, 9, 11, 13, 15, 17, 19, 21, 23]\n"
     ]
    }
   ],
   "source": [
    "#Q1.Which keyword is used to create a function? Create a fumction to return a list of odd numbers in the range of 1 to 25.\n",
    "\n",
    "#Answer- 'def' keyword.\n",
    "\n",
    "def find_odd_numbers():\n",
    "    odd_number=[]\n",
    "    for number in range(1,25):\n",
    "        if number % 2 != 0:\n",
    "            odd_number.append(number)\n",
    "    return odd_number\n",
    "\n",
    "result = find_odd_numbers()\n",
    "print(result)"
   ]
  },
  {
   "cell_type": "code",
   "execution_count": 4,
   "metadata": {},
   "outputs": [
    {
     "name": "stdout",
     "output_type": "stream",
     "text": [
      "Positional arguments (*args): (3, 6, 7)\n",
      "Keyword arguments (**kwargs): {'name': 'Lovely', 'age': 19}\n"
     ]
    }
   ],
   "source": [
    "#Q2.Why *args and **kwargs is used in some functions? Create a function each for *args and **kwargs to demonstrate their use.\n",
    "\n",
    "#Answer- '*args' and '**kwargs' are used in some functions to allow for a variable number of arguments.'*args' collects positional arguments into tuple and '**kwargs' collects keyword arguments into a dictionary.\n",
    "\n",
    "def example_func_with_args_and_kwargs(*args, **kwargs):\n",
    "    print(\"Positional arguments (*args):\", args)\n",
    "    print(\"Keyword arguments (**kwargs):\", kwargs)\n",
    "\n",
    "example_func_with_args_and_kwargs(3,6,7,name='Lovely', age=19)"
   ]
  },
  {
   "cell_type": "code",
   "execution_count": 2,
   "metadata": {},
   "outputs": [
    {
     "name": "stdout",
     "output_type": "stream",
     "text": [
      "1\n",
      "2\n",
      "3\n",
      "4\n",
      "5\n",
      "a\n",
      "b\n",
      "c\n",
      "d\n",
      "e\n",
      "f\n"
     ]
    }
   ],
   "source": [
    "# '*args' is used to pass a variable number of positional arguments to a function.It allows you to accept any number of arguments when calling the function.\n",
    "\n",
    "def example_func_with_args(*args):\n",
    "    for arg in args:\n",
    "        print(arg)\n",
    "\n",
    "example_func_with_args(1,2,3,4,5)\n",
    "example_func_with_args('a','b','c','d','e','f')        "
   ]
  },
  {
   "cell_type": "code",
   "execution_count": 3,
   "metadata": {},
   "outputs": [
    {
     "name": "stdout",
     "output_type": "stream",
     "text": [
      "name:Muskan\n",
      "age:19\n",
      "city:Muzaffarpur\n",
      "country:Bihar\n",
      "population:70000000\n"
     ]
    }
   ],
   "source": [
    "#'**kwargs' is used to pass a variable number of keyword arguments to a function.It allows you to accept any number of keyword arguments when calling the function.\n",
    "\n",
    "def example_func_with_kwargs(**kwargs):\n",
    "    for key, value in kwargs.items():\n",
    "        print(f\"{key}:{value}\")\n",
    "\n",
    "example_func_with_kwargs(name='Muskan', age=19)\n",
    "example_func_with_kwargs(city='Muzaffarpur', country='Bihar', population=70000000)        "
   ]
  },
  {
   "cell_type": "code",
   "execution_count": 6,
   "metadata": {},
   "outputs": [
    {
     "name": "stdout",
     "output_type": "stream",
     "text": [
      "2\n",
      "4\n",
      "6\n",
      "8\n",
      "10\n"
     ]
    }
   ],
   "source": [
    "#Q3.What is an iterator in python? Name the method used to initialise the iterator object and the method used for iteration. Use these methods to print the five elements of the given list [2,4,6,8,10,12,14,16,18,20].\n",
    "\n",
    "#Answer- An iterator in Python is an object that represents a stream of data.The '__iter__' method is used to initializes the object and returns it,and The '__next__' method is used to retrieves the next element from the iterator.When there are no more elements,it raises the 'StopIteration' exception to signal the end of the iteration.\n",
    "\n",
    "class number_Iterator:\n",
    "    def __init__(self,data):\n",
    "        self.data=data\n",
    "        self.index=0\n",
    "\n",
    "    def __iter__(self):\n",
    "        return self\n",
    "\n",
    "    def __next__(self):\n",
    "        if self.index<len(self.data):\n",
    "            result=self.data[self.index]\n",
    "            self.index+=1\n",
    "            return result\n",
    "        else:\n",
    "            raise StopIteration\n",
    "\n",
    "number_Iterator=number_Iterator([2,4,6,8,10,12,14,16,18,20])\n",
    "\n",
    "for _ in range (5):\n",
    "    print(next(number_Iterator))"
   ]
  },
  {
   "cell_type": "code",
   "execution_count": 7,
   "metadata": {},
   "outputs": [
    {
     "name": "stdout",
     "output_type": "stream",
     "text": [
      "0\n",
      "1\n",
      "4\n",
      "9\n",
      "16\n"
     ]
    }
   ],
   "source": [
    "#Q4.What is a generator function in python? Why yield keyword is used? Give an example of a generator function.\n",
    "\n",
    "#Answer- A generator function in Python is a special type of function that allows you to iterate over a potentially large sequence of data without creating the entire sequence in memory at once. The 'yield' keyword is used in a generator function to produce a value to the caller,but it doesn't terminate the function.The function's state is saved,and the next time the generator is called with 'next()',it resumes execution right after the 'yield' statement.\n",
    "\n",
    "def square_generator(n):\n",
    "    for i in range(n):\n",
    "        yield i**2\n",
    "\n",
    "my_generator= square_generator(5)\n",
    "\n",
    "for square in my_generator:\n",
    "    print(square)"
   ]
  },
  {
   "cell_type": "code",
   "execution_count": 8,
   "metadata": {},
   "outputs": [
    {
     "name": "stdout",
     "output_type": "stream",
     "text": [
      "2\n",
      "3\n",
      "5\n",
      "7\n",
      "11\n",
      "13\n",
      "17\n",
      "19\n",
      "23\n",
      "29\n",
      "31\n",
      "37\n",
      "41\n",
      "43\n",
      "47\n",
      "53\n",
      "59\n",
      "61\n",
      "67\n",
      "71\n"
     ]
    }
   ],
   "source": [
    "#Q5.Create a generator function for prime numbers less than 1000. Use the next() method to print the first 20 prime numbers.\n",
    "\n",
    "def generate_prime_num():\n",
    "    primes=[]\n",
    "    num=2\n",
    "    while True:\n",
    "        is_prime=all(num % prime != 0 for prime in primes)\n",
    "        if is_prime:\n",
    "            primes.append(num)\n",
    "            yield num\n",
    "        num +=1\n",
    "\n",
    "prime_number = generate_prime_num()\n",
    "\n",
    "for _ in range(20):\n",
    "    print(next(prime_number))\n"
   ]
  },
  {
   "cell_type": "code",
   "execution_count": 9,
   "metadata": {},
   "outputs": [
    {
     "name": "stdout",
     "output_type": "stream",
     "text": [
      "The first 10 Fibonacci numbers are: [0, 1, 1, 2, 3, 5, 8, 13, 21, 34]\n"
     ]
    }
   ],
   "source": [
    "#Q6.Write a python program to print the first 10 Fibonacci numbers using a while loop.\n",
    "\n",
    "def print_fibonacci(n):\n",
    "    fibonacci_numbers=[]\n",
    "    a,b=0,1\n",
    "    count=0\n",
    "\n",
    "    while count<n:\n",
    "        fibonacci_numbers.append(a)\n",
    "        a, b=b, a+b\n",
    "        count += 1\n",
    "    return fibonacci_numbers\n",
    "\n",
    "n=10\n",
    "\n",
    "fibonacci_sequence=print_fibonacci(n)\n",
    "print(f\"The first {n} Fibonacci numbers are: {fibonacci_sequence}\")    "
   ]
  },
  {
   "cell_type": "code",
   "execution_count": 13,
   "metadata": {},
   "outputs": [
    {
     "name": "stdout",
     "output_type": "stream",
     "text": [
      "['p', 'w', 's', 'k', 'i', 'l', 'l', 's']\n"
     ]
    }
   ],
   "source": [
    "#Q7.Write a List Comprehension to iterate through the given string:'pwskills'. Expected output: ['p', 'w', 's', 'k', 'i', 'l', 'l', 's']\n",
    "\n",
    "input_string='pwskills'\n",
    "output_list=[char for char in input_string if char in 'pwskil']\n",
    "print(output_list)"
   ]
  },
  {
   "cell_type": "code",
   "execution_count": 4,
   "metadata": {},
   "outputs": [
    {
     "name": "stdout",
     "output_type": "stream",
     "text": [
      "125521 is a palindrome number.\n"
     ]
    }
   ],
   "source": [
    "#Q8.Write a python program to check whether a given number is Palindrome or not using a while loop.\n",
    "\n",
    "def is_palindrome(number):\n",
    "    original_number=number\n",
    "    reversed_number=0\n",
    "\n",
    "    while number>0:\n",
    "        digit=number%10\n",
    "        reversed_number=reversed_number*10+digit\n",
    "        number//=10\n",
    "    return original_number==reversed_number\n",
    "\n",
    "user_input=int(input(\"Enter a number: \"))\n",
    "\n",
    "if is_palindrome(user_input):\n",
    "    print(f\"{user_input} is a palindrome number.\")\n",
    "else:\n",
    "    print(f\"{user_input} is not a palindrome number.\")    "
   ]
  },
  {
   "cell_type": "code",
   "execution_count": 5,
   "metadata": {},
   "outputs": [
    {
     "name": "stdout",
     "output_type": "stream",
     "text": [
      "[1, 2, 3, 4, 5, 6, 7, 8, 9, 10, 11, 12, 13, 14, 15, 16, 17, 18, 19, 20, 21, 22, 23, 24, 25, 26, 27, 28, 29, 30, 31, 32, 33, 34, 35, 36, 37, 38, 39, 40, 41, 42, 43, 44, 45, 46, 47, 48, 49, 50, 51, 52, 53, 54, 55, 56, 57, 58, 59, 60, 61, 62, 63, 64, 65, 66, 67, 68, 69, 70, 71, 72, 73, 74, 75, 76, 77, 78, 79, 80, 81, 82, 83, 84, 85, 86, 87, 88, 89, 90, 91, 92, 93, 94, 95, 96, 97, 98, 99, 100]\n",
      "[1, 3, 5, 7, 9, 11, 13, 15, 17, 19, 21, 23, 25, 27, 29, 31, 33, 35, 37, 39, 41, 43, 45, 47, 49, 51, 53, 55, 57, 59, 61, 63, 65, 67, 69, 71, 73, 75, 77, 79, 81, 83, 85, 87, 89, 91, 93, 95, 97, 99]\n"
     ]
    }
   ],
   "source": [
    "#Q9.Write a code to print odd numbers from 1 to 100 using list comprehension.\n",
    "\n",
    "#Note: Use a list comprehension to create a list from 1 to 100 and use another List comprehension to filter out odd numbers.\n",
    "\n",
    "numbers=[num for num in range(1, 101)]\n",
    "print(numbers)\n",
    "\n",
    "find_odd_numbers=[num for num in numbers if num % 2 != 0]\n",
    "print(find_odd_numbers)"
   ]
  }
 ],
 "metadata": {
  "kernelspec": {
   "display_name": "Python 3",
   "language": "python",
   "name": "python3"
  },
  "language_info": {
   "codemirror_mode": {
    "name": "ipython",
    "version": 3
   },
   "file_extension": ".py",
   "mimetype": "text/x-python",
   "name": "python",
   "nbconvert_exporter": "python",
   "pygments_lexer": "ipython3",
   "version": "3.11.4"
  }
 },
 "nbformat": 4,
 "nbformat_minor": 2
}
