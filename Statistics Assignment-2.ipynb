{
 "cells": [
  {
   "cell_type": "code",
   "execution_count": null,
   "metadata": {},
   "outputs": [],
   "source": [
    "'''Q1. What are the three measures of central tendency?\n",
    "\n",
    "Answer:- The three measures of central tendency are: Mean, Median and Mode.\n",
    "'''"
   ]
  },
  {
   "cell_type": "code",
   "execution_count": null,
   "metadata": {},
   "outputs": [],
   "source": [
    "'''Q2. What is the difference between the mean, median, and mode? How are they used to measure the central tendency of a dataset?\n",
    "\n",
    "Answer: - The differences between them are:-\n",
    "Mean: The mean is the average of a set of numbers. You calculate it by summing all the values in the dataset and then dividing by the number of values. It is best used for normally distributed data without outliers, providing a general average.\n",
    "\n",
    "Median: The median is the middle value when the data is ordered from smallest to largest. If the dataset has an even number of values, the median is the average of the two middle numbers. It is preferred for skewed distributions or when outliers are present, as it better represents the central location.\n",
    "\n",
    "Mode: The mode is the value that occurs most frequently in the dataset. It is useful when the most common value is of interest, especially in categorical data.\n",
    "\n",
    "'''\n"
   ]
  },
  {
   "cell_type": "code",
   "execution_count": 5,
   "metadata": {},
   "outputs": [
    {
     "data": {
      "text/plain": [
       "(177.01875, 177.0, 177.0)"
      ]
     },
     "execution_count": 5,
     "metadata": {},
     "output_type": "execute_result"
    }
   ],
   "source": [
    "'''Q3. Measure the three measures of central tendency for the given height data:\n",
    "\n",
    "[178,177,176,177,178.2,178,175,179,180,175,178.9,176.2,177,172.5,178,176.5]\n",
    "'''\n",
    "import numpy as np\n",
    "from scipy import stats\n",
    "\n",
    "heights = [178,177,176,177,178.2,178,175,179,180,175,178.9,176.2,177,172.5,178,176.5]\n",
    "\n",
    "mean = np.mean(heights)\n",
    "median = np.median(heights)\n",
    "mode = stats.mode(heights).mode\n",
    "\n",
    "mean, median, mode"
   ]
  },
  {
   "cell_type": "code",
   "execution_count": 6,
   "metadata": {},
   "outputs": [
    {
     "data": {
      "text/plain": [
       "1.7885814036548633"
      ]
     },
     "execution_count": 6,
     "metadata": {},
     "output_type": "execute_result"
    }
   ],
   "source": [
    "'''Q4. Find the standard deviation for the given data:\n",
    "\n",
    "[178,177,176,177,178.2,178,175,179,180,175,178.9,176.2,177,172.5,178,176.5]\n",
    "'''\n",
    "\n",
    "heights = [178,177,176,177,178.2,178,175,179,180,175,178.9,176.2,177,172.5,178,176.5]\n",
    "standard_deviation = np.std(heights)\n",
    "standard_deviation\n"
   ]
  },
  {
   "cell_type": "code",
   "execution_count": null,
   "metadata": {},
   "outputs": [],
   "source": [
    "'''Q5. How are measures of dispersion such as range, variance, and standard deviation used to describe the spread of a dataset? Provide an example.\n",
    "\n",
    "Answer:- Measures of dispersion, such as range, variance, and standard deviation, describe how spread out or scattered the values in a dataset are. They help in understanding the variability or consistency within the data.\n",
    "\n",
    "1. Range: The range is the difference between the maximum and minimum values in the dataset.  It gives a quick sense of the spread of the data but is sensitive to outliers. Example: If a dataset of test scores has values from 60 to 95, the range is 95 - 60 = 35. This shows the spread between the highest and lowest scores.\n",
    "\n",
    "2. Variance: Variance is the average of the squared differences between each data point and the mean. It quantifies how much the values in a dataset differ from the mean. It gives a measure of how spread out the data points are, with larger variances indicating more spread. Example: If the test scores are clustered closely around the mean, the variance will be low. If they are widely scattered, the variance will be high.\n",
    "\n",
    "3. Standard Deviation: The standard deviation is the square root of the variance. It is expressed in the same units as the data, making it easier to interpret. It provides a clear measure of how much individual data points typically differ from the mean. Example: In the test scores example, if the standard deviation is 5, most students' scores are within 5 points of the mean score.\n",
    "'''"
   ]
  },
  {
   "cell_type": "code",
   "execution_count": null,
   "metadata": {},
   "outputs": [],
   "source": [
    "'''Q6. What is a Venn diagram?\n",
    "\n",
    "Answer:- A Venn diagram is a visual tool used to illustrate the relationships between different sets of items. \n",
    "'''"
   ]
  },
  {
   "cell_type": "code",
   "execution_count": 7,
   "metadata": {},
   "outputs": [
    {
     "name": "stdout",
     "output_type": "stream",
     "text": [
      "Intersection (A ∩ B): {2, 6}\n",
      "Union (A U B): {0, 2, 3, 4, 5, 6, 7, 8, 10}\n"
     ]
    }
   ],
   "source": [
    "'''Q7. For the two given sets A = (2,3,4,5,6,7) & B = (0,2,6,8,10). Find:\n",
    "\n",
    "(i) A ∩ B\n",
    "\n",
    "(ii) A U B\n",
    "'''\n",
    "\n",
    "A = {2,3,4,5,6,7}\n",
    "B = {0,2,6,8,10}\n",
    "\n",
    "intersection = A.intersection(B)\n",
    "union = A.union(B)\n",
    "\n",
    "print(\"Intersection (A ∩ B):\", intersection)\n",
    "print(\"Union (A U B):\", union)"
   ]
  },
  {
   "cell_type": "code",
   "execution_count": null,
   "metadata": {},
   "outputs": [],
   "source": [
    "'''Q8. What do you understand about skewness in data?\n",
    "\n",
    "Answer:- Skewness in data refers to the asymmetry or distortion from the normal distribution in a dataset. It indicates the direction and extent to which a distribution deviates from being perfectly symmetrical.\n",
    "'''"
   ]
  },
  {
   "cell_type": "code",
   "execution_count": null,
   "metadata": {},
   "outputs": [],
   "source": [
    "'''Q9. If a data is right skewed then what will be the position of median with respect to mean?\n",
    "\n",
    "Answer:- If a data is right skewed then the median will be positioned to the left of the mean.\n",
    "'''"
   ]
  },
  {
   "cell_type": "code",
   "execution_count": null,
   "metadata": {},
   "outputs": [],
   "source": [
    "'''Q10. Explain the difference between covariance and correlation. How are these measures used in statistical analysis?\n",
    "\n",
    "Answer:- Covariance and correlation both describe the relationship between two variables, but they differ in scale and interpretability.\n",
    "\n",
    "Covariance:\n",
    "-> Measures the direction of the linear relationship between two variables.\n",
    "-> Scale : Dependent on the units of the variables, making it hard to interpret strength.\n",
    "-> Positive covariance means the variables move together, negative means they move oppositely.\n",
    "-> Used to understand the direction of relationships, especially in finance, but isn't easy to compare across different data due to scale dependency.\n",
    "\n",
    "Correlation:\n",
    "-> Standardized measure of the strength and direction of the linear relationship.\n",
    "-> Scale: Ranges from -1 to +1, making it easy to interpret regardless of units.\n",
    "-> +1 indicates a perfect positive relationship, -1 a perfect negative relationship, and 0 no linear relationship.\n",
    "-> Widely used for its standardized scale, allowing easy comparison and interpretation of relationships across different datasets.\n",
    "'''"
   ]
  },
  {
   "cell_type": "code",
   "execution_count": 9,
   "metadata": {},
   "outputs": [
    {
     "data": {
      "text/plain": [
       "12.0"
      ]
     },
     "execution_count": 9,
     "metadata": {},
     "output_type": "execute_result"
    }
   ],
   "source": [
    "'''Q11. What is the formula for calculating the sample mean? Provide an example calculation for a dataset.\n",
    "\n",
    "Answer:- To calculate the sample mean:\n",
    "1. Sum all the data points in your sample.\n",
    "2. Divide that sum by the number of data points in the sample.\n",
    "This gives you the average value of the sample data, which is the sample mean.\n",
    "'''\n",
    "\n",
    "Dataset = [8, 12, 10, 14, 19, 9]\n",
    "sample_dataset = np.mean(Dataset)\n",
    "sample_dataset"
   ]
  },
  {
   "cell_type": "code",
   "execution_count": null,
   "metadata": {},
   "outputs": [],
   "source": [
    "'''Q12. For a normal distribution data what is the relationship between its measure of central tendency?\n",
    "\n",
    "Answer:- For a normal distribution, the measures of central tendency: mean, median, and mode are all equal.\n",
    "\n",
    "-> Relationship in a Normal Distribution:\n",
    "   Mean: The average of all data points.\n",
    "   Median: The middle value when the data is ordered.\n",
    "   Mode: The most frequently occurring value.\n",
    "-> In a Normal Distribution:\n",
    "   Mean = Median = Mode\n",
    "This is because a normal distribution is perfectly symmetrical, so the center point (mean) is the same as the middle value (median) and the most frequent value (mode). All three measures coincide at the peak of the bell curve.\n",
    "'''"
   ]
  },
  {
   "cell_type": "code",
   "execution_count": null,
   "metadata": {},
   "outputs": [],
   "source": [
    "'''Q13. How is covariance different from correlation?\n",
    "\n",
    "Answer:- Covariance measures whether two variables move together (positive covariance) or in opposite directions (negative covariance), but it's hard to compare because it depends on the units of the variables.\n",
    "\n",
    "Correlation standardizes this relationship, giving a value between -1 and +1, making it easy to understand the strength and direction of the relationship, regardless of units.\n",
    "'''"
   ]
  },
  {
   "cell_type": "code",
   "execution_count": null,
   "metadata": {},
   "outputs": [],
   "source": [
    "'''Q14. How do outliers affect measures of central tendency and dispersion? Provide an example.\n",
    "\n",
    "Answer:- Outliers can significantly impact measures of central tendency (mean, median, and mode) and dispersion (range, variance, standard deviation) in a dataset. Here's a breakdown of their effects:\n",
    "\n",
    "1. Mean: Outliers can skew the mean (average) of a dataset. Since the mean is calculated by summing all values and dividing by the number of values, extreme outliers can disproportionately affect this measure. For example, if you have the following data points: 2, 3, 4, 5, 100, the mean is (2+3+4+5+100)/5= 22.8. The outlier (100) significantly raises the mean.\n",
    "\n",
    "2. Median: The median, which is the middle value when data is ordered, is less affected by outliers compared to the mean. For the same data points (2, 3, 4, 5, 100), the median is 4. In this case, the median remains relatively stable despite the presence of the outlier.\n",
    "\n",
    "3. Mode: The mode, which is the most frequently occurring value, may not be affected much by outliers unless the outlier itself occurs with high frequency.\n",
    "\n",
    "4. Range: The range (difference between the maximum and minimum values) is directly affected by outliers. In the example data (2, 3, 4, 5, 100), the range is 100-2=98, which is significantly increased by the outlier.\n",
    "\n",
    "5. Variance and Standard Deviation: Both variance and standard deviation measure the spread of data points around the mean. Outliers can inflate these measures because they increase the squared deviations from the mean. For instance, the variance and standard deviation will be much higher in the dataset including the outlier (2, 3, 4, 5, 100) compared to a dataset without it.\n",
    "\n",
    "Hence, outliers can distort the mean and measures of dispersion, making them less representative of the typical values in the dataset. The median is generally more robust to outliers and provides a better measure of central tendency in such cases.\n",
    "'''"
   ]
  }
 ],
 "metadata": {
  "kernelspec": {
   "display_name": "Python 3",
   "language": "python",
   "name": "python3"
  },
  "language_info": {
   "codemirror_mode": {
    "name": "ipython",
    "version": 3
   },
   "file_extension": ".py",
   "mimetype": "text/x-python",
   "name": "python",
   "nbconvert_exporter": "python",
   "pygments_lexer": "ipython3",
   "version": "3.11.4"
  }
 },
 "nbformat": 4,
 "nbformat_minor": 2
}
