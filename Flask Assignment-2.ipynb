{
 "cells": [
  {
   "cell_type": "code",
   "execution_count": null,
   "metadata": {},
   "outputs": [],
   "source": [
    "#Q1. Explain GET and POST methods.\n",
    "\n",
    "'''Answer:- HTTP (Hypertext Transfer Protocol) defines various methods that specify the desired action to be performed for a given resource. Two commonly used methods are GET and POST:\n",
    "\n",
    "GET Method:\n",
    "\n",
    "> The GET method requests data from a specified resource.\n",
    "> When you type a URL into your browser's address bar and press Enter, a GET request is sent to the server to retrieve the specified web page.\n",
    "> GET requests are typically used for retrieving data and should not be used for operations that cause side effects or modify data on the server.\n",
    "> GET requests can include parameters appended to the URL in the form of key-value pairs (e.g., '?key1=value1&key2=value2'), commonly used for search queries and filtering data.\n",
    "> GET requests can be cached and bookmarked, and they have length restrictions on the amount of data that can be sent.\n",
    "\n",
    "POST Method:\n",
    "\n",
    "> The POST method submits data to be processed to a specified resource.\n",
    "> When you fill out a form on a web page and click the submit button, a POST request is sent to the server with the form data.\n",
    "> POST requests are commonly used for operations that cause side effects, such as creating or updating resources on the server.\n",
    "> Unlike GET requests, POST requests can send a large amount of data, including binary data, in the request body.\n",
    "> POST requests are not cached, and they are not bookmarkable because they change the state of the server. '''"
   ]
  },
  {
   "cell_type": "code",
   "execution_count": null,
   "metadata": {},
   "outputs": [],
   "source": [
    "#Q2. Why is request used in Flask?\n",
    "\n",
    "'''Answer:- In Flask, the 'request' object is used to access incoming request data sent by the client to the server. It provides access to various attributes and methods that allow you to retrieve information about the current HTTP request.'''"
   ]
  },
  {
   "cell_type": "code",
   "execution_count": null,
   "metadata": {},
   "outputs": [],
   "source": [
    "#Q3. Why is redirect() used in Flask?\n",
    "\n",
    "'''Answer:- In Flask, the 'redirect()' function is used to perform URL redirection. It allows you to redirect the client to a different URL, either within the same application or to an external URL.'''"
   ]
  },
  {
   "cell_type": "code",
   "execution_count": null,
   "metadata": {},
   "outputs": [],
   "source": [
    "#Q4. What are templates in Flask? Why is the render_template() function used?\n",
    "\n",
    "'''Answer:- In Flask, templates are files containing static HTML content with placeholders for dynamic data. They are used to generate HTML pages dynamically by inserting data retrieved from the application into the placeholders. This allows developers to separate the presentation logic (HTML/CSS) from the business logic (Python code) in their applications, promoting better organization and maintainability.\n",
    "\n",
    "The 'render_template()' function in Flask is used to render templates by loading the template file from the templates directory (by default, named 'templates') and passing data to be inserted into the template. It automatically sets the appropriate 'Content-Type' header to 'text/html'.'''"
   ]
  },
  {
   "cell_type": "code",
   "execution_count": 1,
   "metadata": {},
   "outputs": [
    {
     "name": "stdout",
     "output_type": "stream",
     "text": [
      "Requirement already satisfied: flask in c:\\users\\muskan priya\\appdata\\local\\programs\\python\\python311\\lib\\site-packages (3.0.1)Note: you may need to restart the kernel to use updated packages.\n",
      "\n",
      "Requirement already satisfied: Werkzeug>=3.0.0 in c:\\users\\muskan priya\\appdata\\local\\programs\\python\\python311\\lib\\site-packages (from flask) (3.0.1)\n",
      "Requirement already satisfied: Jinja2>=3.1.2 in c:\\users\\muskan priya\\appdata\\local\\programs\\python\\python311\\lib\\site-packages (from flask) (3.1.3)\n",
      "Requirement already satisfied: itsdangerous>=2.1.2 in c:\\users\\muskan priya\\appdata\\local\\programs\\python\\python311\\lib\\site-packages (from flask) (2.1.2)\n",
      "Requirement already satisfied: click>=8.1.3 in c:\\users\\muskan priya\\appdata\\local\\programs\\python\\python311\\lib\\site-packages (from flask) (8.1.7)\n",
      "Requirement already satisfied: blinker>=1.6.2 in c:\\users\\muskan priya\\appdata\\local\\programs\\python\\python311\\lib\\site-packages (from flask) (1.7.0)\n",
      "Requirement already satisfied: colorama in c:\\users\\muskan priya\\appdata\\roaming\\python\\python311\\site-packages (from click>=8.1.3->flask) (0.4.6)\n",
      "Requirement already satisfied: MarkupSafe>=2.0 in c:\\users\\muskan priya\\appdata\\local\\programs\\python\\python311\\lib\\site-packages (from Jinja2>=3.1.2->flask) (2.1.4)\n"
     ]
    },
    {
     "name": "stderr",
     "output_type": "stream",
     "text": [
      "\n",
      "[notice] A new release of pip is available: 23.3.2 -> 24.0\n",
      "[notice] To update, run: python.exe -m pip install --upgrade pip\n"
     ]
    }
   ],
   "source": [
    "pip install flask"
   ]
  },
  {
   "cell_type": "code",
   "execution_count": 3,
   "metadata": {},
   "outputs": [
    {
     "name": "stdout",
     "output_type": "stream",
     "text": [
      " * Serving Flask app '__main__'\n",
      " * Debug mode: off\n"
     ]
    },
    {
     "name": "stderr",
     "output_type": "stream",
     "text": [
      "WARNING: This is a development server. Do not use it in a production deployment. Use a production WSGI server instead.\n",
      " * Running on http://127.0.0.1:5000\n",
      "Press CTRL+C to quit\n",
      "127.0.0.1 - - [04/Mar/2024 22:36:02] \"GET / HTTP/1.1\" 404 -\n",
      "127.0.0.1 - - [04/Mar/2024 22:36:20] \"GET / HTTP/1.1\" 404 -\n",
      "127.0.0.1 - - [04/Mar/2024 22:36:27] \"GET /api HTTP/1.1\" 200 -\n",
      "127.0.0.1 - - [04/Mar/2024 22:36:44] \"GET /api HTTP/1.1\" 200 -\n"
     ]
    }
   ],
   "source": [
    "#Q5. Create a simple API. Use Postman to test it. Attach the screenshot of the output in the Jupyter Notebook.\n",
    "\n",
    "from flask import Flask, jsonify\n",
    "\n",
    "app = Flask(__name__)\n",
    "\n",
    "@app.route('/api')\n",
    "def api():\n",
    "    data = {\n",
    "        'message': 'Hello, this is a simple API!',\n",
    "        'status': 'success'\n",
    "    }\n",
    "    return jsonify(data)\n",
    "\n",
    "if __name__ == '__main__':\n",
    "    app.run()\n"
   ]
  },
  {
   "cell_type": "markdown",
   "metadata": {},
   "source": [
    "<img src=\"Screenshot-6.png\">"
   ]
  }
 ],
 "metadata": {
  "kernelspec": {
   "display_name": "Python 3",
   "language": "python",
   "name": "python3"
  },
  "language_info": {
   "codemirror_mode": {
    "name": "ipython",
    "version": 3
   },
   "file_extension": ".py",
   "mimetype": "text/x-python",
   "name": "python",
   "nbconvert_exporter": "python",
   "pygments_lexer": "ipython3",
   "version": "3.11.4"
  }
 },
 "nbformat": 4,
 "nbformat_minor": 2
}
