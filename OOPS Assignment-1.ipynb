{
 "cells": [
  {
   "cell_type": "code",
   "execution_count": 2,
   "metadata": {},
   "outputs": [
    {
     "name": "stdout",
     "output_type": "stream",
     "text": [
      "Ankit is 21 years old.\n",
      "Ritu is 19 years old.\n",
      "Hi! I'm Ankit, a 21 year old male.\n",
      "Hi! I'm Ritu, a 19 year old female.\n",
      "Happy Birthday, Ankit! You are now 22 years old.\n",
      "Happy Birthday, Ritu! You are now 20 years old.\n"
     ]
    }
   ],
   "source": [
    "'''Q1. Explain Class and Object with respect to Object-Oriented Programming. Give a suitable example.\n",
    "\n",
    "Answer- In object-oriented programming(OOP),a class is a blueprint or a template for creating objects.An object, on the other hand, is an instance of a class.In simpler terms,a class defines a set of attributes and behaviors that its objects will have.\n",
    "'''\n",
    "class Person:\n",
    "    def __init__(self, name, age, gender):\n",
    "        self.name = name\n",
    "        self.age = age\n",
    "        self.gender = gender\n",
    "    \n",
    "    def introduce(self):\n",
    "        print(f\"Hi! I'm {self.name}, a {self.age} year old {self.gender}.\")\n",
    "\n",
    "    def have_birthday(self):\n",
    "        self.age += 1\n",
    "        print(f\"Happy Birthday, {self.name}! You are now {self.age} years old.\")\n",
    "\n",
    "person1 = Person(\"Ankit\", 21, \"male\")\n",
    "person2 = Person(\"Ritu\", 19, \"female\")\n",
    "\n",
    "print(f\"{person1.name} is {person1.age} years old.\")\n",
    "print(f\"{person2.name} is {person2.age} years old.\")\n",
    "\n",
    "person1.introduce()\n",
    "person2.introduce()\n",
    "person1.have_birthday()\n",
    "person2.have_birthday()\n"
   ]
  },
  {
   "cell_type": "code",
   "execution_count": null,
   "metadata": {},
   "outputs": [],
   "source": [
    "'''Q2. Name the four pillars of OOPs.\n",
    "\n",
    "Answer- The four pillars of OOPs are:-\n",
    "        (a) Inheritance\n",
    "        (b) Polymorphism\n",
    "        (c) Encapsulation\n",
    "        (d) Abstraction\n",
    "'''"
   ]
  },
  {
   "cell_type": "code",
   "execution_count": 3,
   "metadata": {},
   "outputs": [
    {
     "name": "stdout",
     "output_type": "stream",
     "text": [
      "Prita is 24 years old.\n",
      "Rajesh is 27 years old.\n",
      "Hello, my name is Prita.I am 24 years old.\n",
      "Hello, my name is Rajesh.I am 27 years old.\n"
     ]
    }
   ],
   "source": [
    "'''Q3. Explain why the __init__() function is used.Give a suitable example.\n",
    "\n",
    "Answer- The '__init__()' function in Python is a special method,often referred to as the \"initializer\" or \"constructor\".It is automatically called when an object is created from a class.The primary purpose of the '__init__()' method is to initialize the attributes of an object with specific values when it is instantiated.\n",
    "'''\n",
    "\n",
    "class Person:\n",
    "    def __init__(self, name, age):\n",
    "        self.name = name\n",
    "        self.age = age\n",
    "\n",
    "    def introduce(self):\n",
    "        print(f\"Hello, my name is {self.name}.I am {self.age} years old.\")\n",
    "\n",
    "person1 = Person(\"Prita\", 24)\n",
    "person2 = Person(\"Rajesh\", 27)\n",
    "\n",
    "print(f\"{person1.name} is {person1.age} years old.\")\n",
    "print(f\"{person2.name} is {person2.age} years old.\")\n",
    "\n",
    "person1.introduce()\n",
    "person2.introduce()\n",
    "\n"
   ]
  },
  {
   "cell_type": "code",
   "execution_count": 4,
   "metadata": {},
   "outputs": [
    {
     "name": "stdout",
     "output_type": "stream",
     "text": [
      "The value is: 56\n"
     ]
    }
   ],
   "source": [
    "'''Q4. Why self is used in OOPs?\n",
    "\n",
    "Answer-In OOPs,'self' is a convention used to refer to the instance of the class within its own methods.It is the first parameter passed to any methods defines within a class,including the special methods like '__init__' and other instance methods.\n",
    "'''\n",
    "\n",
    "class MyClass:\n",
    "    def __init__(self, value):\n",
    "        self.value = value\n",
    "\n",
    "    def print_value(self):\n",
    "        print(f\"The value is: {self.value}\")\n",
    "\n",
    "obj = MyClass(56)\n",
    "\n",
    "obj.print_value()"
   ]
  },
  {
   "cell_type": "code",
   "execution_count": 6,
   "metadata": {},
   "outputs": [
    {
     "name": "stdout",
     "output_type": "stream",
     "text": [
      "Animal sounds\n",
      "Dog barks\n"
     ]
    }
   ],
   "source": [
    "'''Q5. What is inheritance? Give an example for each type of inheritance.\n",
    "\n",
    "Answer- Inheritance is a fundamental concept in OOP that allows a new class(called the derived class or child class) to inherit attributes and bahaviors from an existing class(called the base or parent class).This enables code reuse,promotes a hierarchical structure,and facilitates the creation of specialized classes.\n",
    "\n",
    "There are several types of inheritance,including:\n",
    "'''\n",
    "#1. Single Inheritance: In single inheritance,a class inherits from only one base class\n",
    "\n",
    "class Animal:\n",
    "    def sound(self):\n",
    "        print(\"Animal sounds\")\n",
    "\n",
    "class Dog(Animal):\n",
    "    def bark(self):\n",
    "        print(\"Dog barks\")\n",
    "\n",
    "obj = Dog()\n",
    "\n",
    "obj.sound()\n",
    "obj.bark()"
   ]
  },
  {
   "cell_type": "code",
   "execution_count": 7,
   "metadata": {},
   "outputs": [
    {
     "name": "stdout",
     "output_type": "stream",
     "text": [
      "Can study\n",
      "Can teach\n"
     ]
    }
   ],
   "source": [
    "#2. Multiple Inheritance: In multiple inheritance,a class can inherit from more than one base class.\n",
    "\n",
    "class Student:\n",
    "    def study(self):\n",
    "        print(\"Can study\")\n",
    "\n",
    "class Teacher:\n",
    "    def teach(self):\n",
    "        print(\"Can teach\")\n",
    "\n",
    "class Person(Student, Teacher):\n",
    "    pass        \n",
    "\n",
    "person = Person()\n",
    "\n",
    "person.study()\n",
    "person.teach()"
   ]
  },
  {
   "cell_type": "code",
   "execution_count": 8,
   "metadata": {},
   "outputs": [
    {
     "name": "stdout",
     "output_type": "stream",
     "text": [
      "Engine started\n",
      "Car is being driven\n",
      "Sports car is boosting\n"
     ]
    }
   ],
   "source": [
    "#3. Multilevel Inheritance: In multiple inheritance,a class inherits from another class,and then another class inherits from it.\n",
    "\n",
    "class Vehicle:\n",
    "    def  start_engine(self):\n",
    "        print(\"Engine started\")\n",
    "\n",
    "class Car(Vehicle):\n",
    "    def drive(self):\n",
    "        print(\"Car is being driven\") \n",
    "\n",
    "class SportsCar(Car):\n",
    "    def boost(self):\n",
    "        print(\"Sports car is boosting\")\n",
    "\n",
    "my_sports_car = SportsCar()\n",
    "\n",
    "my_sports_car.start_engine()\n",
    "my_sports_car.drive()\n",
    "my_sports_car.boost()"
   ]
  }
 ],
 "metadata": {
  "kernelspec": {
   "display_name": "Python 3",
   "language": "python",
   "name": "python3"
  },
  "language_info": {
   "codemirror_mode": {
    "name": "ipython",
    "version": 3
   },
   "file_extension": ".py",
   "mimetype": "text/x-python",
   "name": "python",
   "nbconvert_exporter": "python",
   "pygments_lexer": "ipython3",
   "version": "3.11.4"
  }
 },
 "nbformat": 4,
 "nbformat_minor": 2
}
