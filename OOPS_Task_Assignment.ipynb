{
 "cells": [
  {
   "cell_type": "code",
   "execution_count": 2,
   "metadata": {},
   "outputs": [
    {
     "name": "stdout",
     "output_type": "stream",
     "text": [
      "Car: Max Speed - 200 km/h, Average Speed - 60 km/h\n",
      "Bike: Max Speed - 120 km/h, Average Speed - 30 km/h\n"
     ]
    }
   ],
   "source": [
    "'''Q1. Create a vehicle class with an init method having instance variables as name_of_vehicle, max_speed and average_of_vehicle.'''\n",
    "\n",
    "class Vechicle:\n",
    "    def __init__(self, name_of_vehicle, max_speed, average_of_vehicle):\n",
    "        self.name_of_vehicle=name_of_vehicle\n",
    "        self.max_speed=max_speed\n",
    "        self.average_of_vehicle=average_of_vehicle\n",
    "\n",
    "car=Vechicle(name_of_vehicle=\"Car\", max_speed=200, average_of_vehicle=60)\n",
    "bike=Vechicle(name_of_vehicle=\"Bike\", max_speed=120, average_of_vehicle=30)\n",
    "\n",
    "print(f\"{car.name_of_vehicle}: Max Speed - {car.max_speed} km/h, Average Speed - {car.average_of_vehicle} km/h\")\n",
    "print(f\"{bike.name_of_vehicle}: Max Speed - {bike.max_speed} km/h, Average Speed - {bike.average_of_vehicle} km/h\")"
   ]
  },
  {
   "cell_type": "code",
   "execution_count": 4,
   "metadata": {},
   "outputs": [
    {
     "name": "stdout",
     "output_type": "stream",
     "text": [
      "Sedan: Max Speed - 180 km/h, Average Speed - 70 km/h\n",
      "Sedan has a seating capacity of 5 passengers.\n"
     ]
    }
   ],
   "source": [
    "'''Q2. Create a child class car from the vehicle class created in Que 1, which will inherit the vehicle class. Create a method named seating_capacity which takes capacity as an argument and returns the name of the vehicle and its seating capacity.\n",
    "'''\n",
    "class Car(Vechicle):\n",
    "    def __init__(self, name_of_vehicle, max_speed, average_of_vehicle):\n",
    "        super().__init__(name_of_vehicle, max_speed, average_of_vehicle)\n",
    "\n",
    "    def seating_capacity(self, capacity):\n",
    "        return f\"{self.name_of_vehicle} has a seating capacity of {capacity} passengers.\"\n",
    "    \n",
    "car=Car(name_of_vehicle=\"Sedan\", max_speed=180, average_of_vehicle=70)\n",
    "\n",
    "print(f\"{car.name_of_vehicle}: Max Speed - {car.max_speed} km/h, Average Speed - {car.average_of_vehicle} km/h\")\n",
    "\n",
    "print(car.seating_capacity(capacity=5))"
   ]
  },
  {
   "cell_type": "code",
   "execution_count": 5,
   "metadata": {},
   "outputs": [
    {
     "name": "stdout",
     "output_type": "stream",
     "text": [
      "Giving birth to live young ones.\n",
      "Laying eggs.\n",
      "Platypus makes a unique sound.\n"
     ]
    }
   ],
   "source": [
    "'''What is multiple inheritance? Write a python code to demonstrate multiple inheritance.\n",
    "\n",
    "Answer- Multiple inheritance is a feature in object-oriented programming languages where a class can inherit attributes and methods from more than one parent class. In Python, you can achieve multiple inheritance by specifying multiple parent classes in the class definition.\n",
    "'''\n",
    "\n",
    "class Mammal:\n",
    "    def give_birth(self):\n",
    "        print(\"Giving birth to live young ones.\")\n",
    "\n",
    "class Bird:\n",
    "    def lay_eggs(self):\n",
    "        print(\"Laying eggs.\")\n",
    "\n",
    "class Platypus(Mammal, Bird):\n",
    "    def make_sound(self):\n",
    "        print(\"Platypus makes a unique sound.\")\n",
    "\n",
    "platypus=Platypus()\n",
    "\n",
    "platypus.give_birth()\n",
    "platypus.lay_eggs() \n",
    "platypus.make_sound()               "
   ]
  },
  {
   "cell_type": "code",
   "execution_count": 8,
   "metadata": {},
   "outputs": [
    {
     "name": "stdout",
     "output_type": "stream",
     "text": [
      "Current value:  56\n",
      "Invalid value. Please provide an integer.\n",
      "Current value:  56\n"
     ]
    }
   ],
   "source": [
    "'''Q4. What are getter and setter in python? Create a class and create a getter and a setter method in this class.\n",
    "\n",
    "Answer- In Python, getters and setters are methods used to access and modify the private attributes of a class. They provide a way to encapsulate the internal representation of an object and control access to its attributes.\n",
    "'''\n",
    "\n",
    "class Value:\n",
    "    def __init__(self):\n",
    "        # Private attribute\n",
    "        self._value=None\n",
    "\n",
    "    # Getter method   \n",
    "    def get_value(self):\n",
    "        return self._value\n",
    "\n",
    "    # Setter method\n",
    "    def set_value(self, new_value):\n",
    "        if isinstance(new_value, int):\n",
    "            self._value=new_value\n",
    "        else:\n",
    "            print(\"Invalid value. Please provide an integer.\") \n",
    "\n",
    "# Value usage\n",
    "obj=Value()\n",
    "\n",
    "# Using the setter method\n",
    "obj.set_value(56)\n",
    "\n",
    "# Using the getter method\n",
    "print(\"Current value: \",obj.get_value())\n",
    "\n",
    "# Trying to set an invalid value\n",
    "obj.set_value(\"Invalid\")\n",
    "\n",
    "# The value remains unchanged\n",
    "print(\"Current value: \", obj.get_value())\n",
    "\n"
   ]
  },
  {
   "cell_type": "code",
   "execution_count": 9,
   "metadata": {},
   "outputs": [
    {
     "name": "stdout",
     "output_type": "stream",
     "text": [
      "Generic animal sound\n",
      "Meow\n",
      "Woof\n"
     ]
    }
   ],
   "source": [
    "'''Q5. What is method overriding in python? Write a pytho code to demonstrate method overriding.\n",
    "\n",
    "Answer- Method overriding in Python occurs when a subclass provides a specific implementation for a method that is already defined in its superclass. the overridden method in the subclass should have the same method signature(name and parameters) as the method in the superclass.\n",
    "'''\n",
    "\n",
    "class Animal:\n",
    "    def make_sound(self):\n",
    "        print(\"Generic animal sound\")\n",
    "\n",
    "class Cat(Animal):\n",
    "    def make_sound(self):\n",
    "        print(\"Meow\")\n",
    "\n",
    "class Dod(Animal):\n",
    "    def make_sound(self):\n",
    "        print(\"Woof\")\n",
    "\n",
    "generic_animal=Animal()\n",
    "cat=Cat()\n",
    "dog=Dod()\n",
    "\n",
    "generic_animal.make_sound()\n",
    "cat.make_sound()\n",
    "dog.make_sound()\n"
   ]
  }
 ],
 "metadata": {
  "kernelspec": {
   "display_name": "Python 3",
   "language": "python",
   "name": "python3"
  },
  "language_info": {
   "codemirror_mode": {
    "name": "ipython",
    "version": 3
   },
   "file_extension": ".py",
   "mimetype": "text/x-python",
   "name": "python",
   "nbconvert_exporter": "python",
   "pygments_lexer": "ipython3",
   "version": "3.11.4"
  }
 },
 "nbformat": 4,
 "nbformat_minor": 2
}
